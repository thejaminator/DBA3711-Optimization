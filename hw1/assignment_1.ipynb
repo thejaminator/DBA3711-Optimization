{
 "cells": [
  {
   "cell_type": "code",
   "execution_count": null,
   "metadata": {
    "collapsed": true
   },
   "outputs": [],
   "source": [
    "from typing import Set, List, Dict\n",
    "from gurobipy import *\n",
    "from math import sqrt\n",
    "import pandas as pd\n",
    "import numpy as np\n",
    "!ls"
   ]
  },
  {
   "cell_type": "code",
   "execution_count": null,
   "outputs": [],
   "source": [
    "demands_deliveries_file = pd.read_csv(\"data-demands-deliveyconstraint.csv\")\n",
    "routes_file = pd.read_csv(\"routes.csv\")"
   ],
   "metadata": {
    "collapsed": false,
    "pycharm": {
     "name": "#%%\n"
    }
   }
  },
  {
   "cell_type": "code",
   "execution_count": null,
   "outputs": [],
   "source": [
    "# demands_dict = demands_deliveries_file[[\"Stores\", \"Demands (per week)\"]].set_index('Stores').to_dict()[\"Demands (per week)\"]"
   ],
   "metadata": {
    "collapsed": false,
    "pycharm": {
     "name": "#%%\n"
    }
   }
  },
  {
   "cell_type": "code",
   "execution_count": null,
   "outputs": [],
   "source": [
    "# Ordered with idx 0: 'S1', 1: 'S2' etc...\n",
    "stores: Dict[int, str] = demands_deliveries_file[\"Demands (per week)\"].to_dict()\n",
    "\n",
    "n_stores = len(stores)"
   ],
   "metadata": {
    "collapsed": false,
    "pycharm": {
     "name": "#%%\n"
    }
   }
  },
  {
   "cell_type": "code",
   "execution_count": null,
   "outputs": [],
   "source": [],
   "metadata": {
    "collapsed": false,
    "pycharm": {
     "name": "#%%\n"
    }
   }
  },
  {
   "cell_type": "code",
   "execution_count": null,
   "outputs": [],
   "source": [
    "# Constants\n",
    "n_days = 7"
   ],
   "metadata": {
    "collapsed": false,
    "pycharm": {
     "name": "#%%\n"
    }
   }
  },
  {
   "cell_type": "code",
   "execution_count": null,
   "outputs": [],
   "source": [
    "\n",
    "# Create a new model\n",
    "model: Model = Model(\"transportation\")\n",
    "\n",
    "# Create variables Xijd where i indicates first store, j second, d the day\n",
    "variables = model.addVars(n_stores,n_stores, n_days)\n",
    "\n",
    "\n",
    "# Set objective. Since cost is a constant we can simply minimize the units\n",
    "model.setObjective(sum(variables[i,j, d]\n",
    "                    for i in range(n_stores)\n",
    "                    for j in range(n_stores)\n",
    "                    for d in range(n_days)), GRB.MINIMIZE)\n",
    "\n",
    "\n",
    "\n",
    "# Add constraint for max capacity:\n",
    "for store_i in stores.keys():\n",
    "    for store_j in stores.keys():\n",
    "        for day in range(n_days):\n",
    "            model.addConstr(variables[store_i, store_j, day] <= 20)\n",
    "\n",
    "\n",
    "# Each truck cannot carry negative units\n",
    "for store_i in stores.keys():\n",
    "    for store_j in stores.keys():\n",
    "        for day in range(n_days):\n",
    "            model.addConstr(variables[store_i, store_j, day] >= 0)\n",
    "\n",
    "\n",
    "# Add demand meeting constraint\n",
    "for store_i, store_i_demands in stores.items():\n",
    "            model.addConstr(\n",
    "            sum(variables[store_i, store_j, day]\n",
    "            for store_j in stores.keys()\n",
    "            for day in range(n_days)) >= store_i_demands)\n",
    "\n",
    "model.optimize()\n",
    "\n",
    "# print optimal solutions\n",
    "for v in model.getVars():\n",
    "    print('%s %g' % (v.varName, v.x))\n",
    "\n",
    "# print optimal value\n",
    "print('Obj: %g' % model.objVal)\n",
    "\n",
    "# print dual values to all constraints\n",
    "print(model.getAttr(\"Pi\", model.getConstrs()))"
   ],
   "metadata": {
    "collapsed": false,
    "pycharm": {
     "name": "#%%\n"
    }
   }
  },
  {
   "cell_type": "code",
   "execution_count": null,
   "outputs": [],
   "source": [],
   "metadata": {
    "collapsed": false,
    "pycharm": {
     "name": "#%%\n"
    }
   }
  },
  {
   "cell_type": "code",
   "execution_count": null,
   "outputs": [],
   "source": [],
   "metadata": {
    "collapsed": false,
    "pycharm": {
     "name": "#%%\n"
    }
   }
  },
  {
   "cell_type": "code",
   "execution_count": null,
   "outputs": [],
   "source": [],
   "metadata": {
    "collapsed": false,
    "pycharm": {
     "name": "#%%\n"
    }
   }
  }
 ],
 "metadata": {
  "kernelspec": {
   "name": "pycharm-4e3591cc",
   "language": "python",
   "display_name": "PyCharm (DBA3701 Optimization)"
  },
  "language_info": {
   "codemirror_mode": {
    "name": "ipython",
    "version": 2
   },
   "file_extension": ".py",
   "mimetype": "text/x-python",
   "name": "python",
   "nbconvert_exporter": "python",
   "pygments_lexer": "ipython2",
   "version": "2.7.6"
  }
 },
 "nbformat": 4,
 "nbformat_minor": 0
}