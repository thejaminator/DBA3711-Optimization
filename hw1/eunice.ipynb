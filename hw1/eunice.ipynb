{
 "cells": [
  {
   "cell_type": "code",
   "execution_count": 1,
   "metadata": {},
   "outputs": [],
   "source": [
    "import pandas as pd\n",
    "import numpy as np\n",
    "from gurobipy import *\n",
    "from math import sqrt\n",
    "import matplotlib\n",
    "import matplotlib.pyplot as plt\n",
    "import xlrd"
   ]
  },
  {
   "cell_type": "code",
   "execution_count": 2,
   "metadata": {},
   "outputs": [
    {
     "name": "stderr",
     "output_type": "stream",
     "text": [
      "<ipython-input-2-28588434085d>:1: FutureWarning: Your version of xlrd is 1.2.0. In xlrd >= 2.0, only the xls format is supported. As a result, the openpyxl engine will be used if it is installed and the engine argument is not specified. Install openpyxl instead.\n",
      "  routes = pd.read_excel(\"routes.xlsx\")\n",
      "<ipython-input-2-28588434085d>:2: FutureWarning: Your version of xlrd is 1.2.0. In xlrd >= 2.0, only the xls format is supported. As a result, the openpyxl engine will be used if it is installed and the engine argument is not specified. Install openpyxl instead.\n",
      "  constraints = pd.read_excel(\"data-demands-deliveyconstraint.xlsx\")\n"
     ]
    }
   ],
   "source": [
    "routes = pd.read_excel(\"routes.xlsx\")\n",
    "constraints = pd.read_excel(\"data-demands-deliveyconstraint.xlsx\")\n",
    "\n",
    "routes.head()\n",
    "routes = routes.rename(columns = {'Route#': 'Route'}, inplace = False)\n",
    "\n",
    "constraints.head()\n",
    "constraints = constraints.rename(columns = {'Stores': 'Store',\n",
    "                                            'Demands (per week)': 'Demand', \n",
    "                                            'Delivery accepting constraints': 'Limit'}, inplace = False)"
   ]
  },
  {
   "cell_type": "code",
   "execution_count": 4,
   "metadata": {},
   "outputs": [
    {
     "data": {
      "text/plain": "    Route stop1 stop2\n0       1     1   NaN\n1       2     2   NaN\n2       3     3   NaN\n3       4     4   NaN\n4       5     5   NaN\n5       6     6   NaN\n6       7     7   NaN\n7       8     8   NaN\n8       9     9   NaN\n9      10    10   NaN\n10     11    11   NaN\n11     12    12   NaN\n12     13    13   NaN\n13     14    14   NaN\n14     15    15   NaN\n15     16    16   NaN\n16     17    17   NaN\n17     18    18   NaN\n18     19    19   NaN\n19     20    20   NaN\n20     21     5     7\n21     22     8    10\n22     23     3    11\n23     24     6    12\n24     25     4    13\n25     26    18    14\n26     27    11     7\n27     28    12     8\n28     29    13     9\n29     30    17    10",
      "text/html": "<div>\n<style scoped>\n    .dataframe tbody tr th:only-of-type {\n        vertical-align: middle;\n    }\n\n    .dataframe tbody tr th {\n        vertical-align: top;\n    }\n\n    .dataframe thead th {\n        text-align: right;\n    }\n</style>\n<table border=\"1\" class=\"dataframe\">\n  <thead>\n    <tr style=\"text-align: right;\">\n      <th></th>\n      <th>Route</th>\n      <th>stop1</th>\n      <th>stop2</th>\n    </tr>\n  </thead>\n  <tbody>\n    <tr>\n      <th>0</th>\n      <td>1</td>\n      <td>1</td>\n      <td>NaN</td>\n    </tr>\n    <tr>\n      <th>1</th>\n      <td>2</td>\n      <td>2</td>\n      <td>NaN</td>\n    </tr>\n    <tr>\n      <th>2</th>\n      <td>3</td>\n      <td>3</td>\n      <td>NaN</td>\n    </tr>\n    <tr>\n      <th>3</th>\n      <td>4</td>\n      <td>4</td>\n      <td>NaN</td>\n    </tr>\n    <tr>\n      <th>4</th>\n      <td>5</td>\n      <td>5</td>\n      <td>NaN</td>\n    </tr>\n    <tr>\n      <th>5</th>\n      <td>6</td>\n      <td>6</td>\n      <td>NaN</td>\n    </tr>\n    <tr>\n      <th>6</th>\n      <td>7</td>\n      <td>7</td>\n      <td>NaN</td>\n    </tr>\n    <tr>\n      <th>7</th>\n      <td>8</td>\n      <td>8</td>\n      <td>NaN</td>\n    </tr>\n    <tr>\n      <th>8</th>\n      <td>9</td>\n      <td>9</td>\n      <td>NaN</td>\n    </tr>\n    <tr>\n      <th>9</th>\n      <td>10</td>\n      <td>10</td>\n      <td>NaN</td>\n    </tr>\n    <tr>\n      <th>10</th>\n      <td>11</td>\n      <td>11</td>\n      <td>NaN</td>\n    </tr>\n    <tr>\n      <th>11</th>\n      <td>12</td>\n      <td>12</td>\n      <td>NaN</td>\n    </tr>\n    <tr>\n      <th>12</th>\n      <td>13</td>\n      <td>13</td>\n      <td>NaN</td>\n    </tr>\n    <tr>\n      <th>13</th>\n      <td>14</td>\n      <td>14</td>\n      <td>NaN</td>\n    </tr>\n    <tr>\n      <th>14</th>\n      <td>15</td>\n      <td>15</td>\n      <td>NaN</td>\n    </tr>\n    <tr>\n      <th>15</th>\n      <td>16</td>\n      <td>16</td>\n      <td>NaN</td>\n    </tr>\n    <tr>\n      <th>16</th>\n      <td>17</td>\n      <td>17</td>\n      <td>NaN</td>\n    </tr>\n    <tr>\n      <th>17</th>\n      <td>18</td>\n      <td>18</td>\n      <td>NaN</td>\n    </tr>\n    <tr>\n      <th>18</th>\n      <td>19</td>\n      <td>19</td>\n      <td>NaN</td>\n    </tr>\n    <tr>\n      <th>19</th>\n      <td>20</td>\n      <td>20</td>\n      <td>NaN</td>\n    </tr>\n    <tr>\n      <th>20</th>\n      <td>21</td>\n      <td>5</td>\n      <td>7</td>\n    </tr>\n    <tr>\n      <th>21</th>\n      <td>22</td>\n      <td>8</td>\n      <td>10</td>\n    </tr>\n    <tr>\n      <th>22</th>\n      <td>23</td>\n      <td>3</td>\n      <td>11</td>\n    </tr>\n    <tr>\n      <th>23</th>\n      <td>24</td>\n      <td>6</td>\n      <td>12</td>\n    </tr>\n    <tr>\n      <th>24</th>\n      <td>25</td>\n      <td>4</td>\n      <td>13</td>\n    </tr>\n    <tr>\n      <th>25</th>\n      <td>26</td>\n      <td>18</td>\n      <td>14</td>\n    </tr>\n    <tr>\n      <th>26</th>\n      <td>27</td>\n      <td>11</td>\n      <td>7</td>\n    </tr>\n    <tr>\n      <th>27</th>\n      <td>28</td>\n      <td>12</td>\n      <td>8</td>\n    </tr>\n    <tr>\n      <th>28</th>\n      <td>29</td>\n      <td>13</td>\n      <td>9</td>\n    </tr>\n    <tr>\n      <th>29</th>\n      <td>30</td>\n      <td>17</td>\n      <td>10</td>\n    </tr>\n  </tbody>\n</table>\n</div>"
     },
     "execution_count": 4,
     "metadata": {},
     "output_type": "execute_result"
    }
   ],
   "source": [
    "routes.stop1 = [x.strip(\"S\") for x in routes.stop1]\n",
    "routes.iloc[20:,2] = [x.strip(\"S\") for x in routes.iloc[20:,2]]\n",
    "\n",
    "routes"
   ]
  },
  {
   "cell_type": "code",
   "execution_count": 5,
   "metadata": {},
   "outputs": [
    {
     "data": {
      "text/plain": "   Store  Demand  Limit\n0     S1     194     64\n1     S2     201     50\n2     S3     169     28\n3     S4     228     57\n4     S5     237     47\n5     S6     190     63\n6     S7     166     26\n7     S8     158     31\n8     S9     209     69\n9    S10     219     43\n10   S11     178     59\n11   S12     154     30\n12   S13     161     24\n13   S14     157     39\n14   S15     247     61\n15   S16     217     54\n16   S17     212     34\n17   S18     161     31\n18   S19     158     31\n19   S20     194     32",
      "text/html": "<div>\n<style scoped>\n    .dataframe tbody tr th:only-of-type {\n        vertical-align: middle;\n    }\n\n    .dataframe tbody tr th {\n        vertical-align: top;\n    }\n\n    .dataframe thead th {\n        text-align: right;\n    }\n</style>\n<table border=\"1\" class=\"dataframe\">\n  <thead>\n    <tr style=\"text-align: right;\">\n      <th></th>\n      <th>Store</th>\n      <th>Demand</th>\n      <th>Limit</th>\n    </tr>\n  </thead>\n  <tbody>\n    <tr>\n      <th>0</th>\n      <td>S1</td>\n      <td>194</td>\n      <td>64</td>\n    </tr>\n    <tr>\n      <th>1</th>\n      <td>S2</td>\n      <td>201</td>\n      <td>50</td>\n    </tr>\n    <tr>\n      <th>2</th>\n      <td>S3</td>\n      <td>169</td>\n      <td>28</td>\n    </tr>\n    <tr>\n      <th>3</th>\n      <td>S4</td>\n      <td>228</td>\n      <td>57</td>\n    </tr>\n    <tr>\n      <th>4</th>\n      <td>S5</td>\n      <td>237</td>\n      <td>47</td>\n    </tr>\n    <tr>\n      <th>5</th>\n      <td>S6</td>\n      <td>190</td>\n      <td>63</td>\n    </tr>\n    <tr>\n      <th>6</th>\n      <td>S7</td>\n      <td>166</td>\n      <td>26</td>\n    </tr>\n    <tr>\n      <th>7</th>\n      <td>S8</td>\n      <td>158</td>\n      <td>31</td>\n    </tr>\n    <tr>\n      <th>8</th>\n      <td>S9</td>\n      <td>209</td>\n      <td>69</td>\n    </tr>\n    <tr>\n      <th>9</th>\n      <td>S10</td>\n      <td>219</td>\n      <td>43</td>\n    </tr>\n    <tr>\n      <th>10</th>\n      <td>S11</td>\n      <td>178</td>\n      <td>59</td>\n    </tr>\n    <tr>\n      <th>11</th>\n      <td>S12</td>\n      <td>154</td>\n      <td>30</td>\n    </tr>\n    <tr>\n      <th>12</th>\n      <td>S13</td>\n      <td>161</td>\n      <td>24</td>\n    </tr>\n    <tr>\n      <th>13</th>\n      <td>S14</td>\n      <td>157</td>\n      <td>39</td>\n    </tr>\n    <tr>\n      <th>14</th>\n      <td>S15</td>\n      <td>247</td>\n      <td>61</td>\n    </tr>\n    <tr>\n      <th>15</th>\n      <td>S16</td>\n      <td>217</td>\n      <td>54</td>\n    </tr>\n    <tr>\n      <th>16</th>\n      <td>S17</td>\n      <td>212</td>\n      <td>34</td>\n    </tr>\n    <tr>\n      <th>17</th>\n      <td>S18</td>\n      <td>161</td>\n      <td>31</td>\n    </tr>\n    <tr>\n      <th>18</th>\n      <td>S19</td>\n      <td>158</td>\n      <td>31</td>\n    </tr>\n    <tr>\n      <th>19</th>\n      <td>S20</td>\n      <td>194</td>\n      <td>32</td>\n    </tr>\n  </tbody>\n</table>\n</div>"
     },
     "execution_count": 5,
     "metadata": {},
     "output_type": "execute_result"
    }
   ],
   "source": [
    "constraints"
   ]
  },
  {
   "cell_type": "code",
   "execution_count": 6,
   "metadata": {},
   "outputs": [
    {
     "name": "stdout",
     "output_type": "stream",
     "text": [
      "Academic license - for non-commercial use only - expires 2021-03-22\n",
      "Using license file /Users/jameschua/gurobi.lic\n"
     ]
    }
   ],
   "source": [
    "# Defining the model \n",
    "m = Model(\"Transportation\")"
   ]
  },
  {
   "cell_type": "code",
   "execution_count": 7,
   "metadata": {},
   "outputs": [],
   "source": [
    "# Defining weekly demand \n",
    "d = constraints.iloc[:,1]\n",
    "\n",
    "# Defining daily capacity limit\n",
    "l = constraints.iloc[:,2]"
   ]
  },
  {
   "cell_type": "code",
   "execution_count": 19,
   "metadata": {},
   "outputs": [],
   "source": [
    "# Declaring variables\n",
    "\n",
    "# no. of routes (30), no. of stores (20), no. of days (7)\n",
    "var = m.addVars(30, 20, 7)"
   ]
  },
  {
   "cell_type": "code",
   "execution_count": 20,
   "metadata": {},
   "outputs": [],
   "source": [
    "# Setting the objective \n",
    "m.setObjective((100/50)*sum(var[i,j,k] for i in range(30) for j in range(20) for k in range(7)), GRB.MINIMIZE)"
   ]
  },
  {
   "cell_type": "code",
   "execution_count": 25,
   "metadata": {},
   "outputs": [
    {
     "name": "stdout",
     "output_type": "stream",
     "text": [
      "19\n"
     ]
    }
   ],
   "source": [
    "# Store weekly demand constraints \n",
    "for j in range(20):\n",
    "    m.addConstr(sum(var[i,j,k] for i in range(30) for k in range(7)) == d[j])\n",
    "\n",
    "# Truck daily capacity constraints \n",
    "for i in range(20): #for the first 20 routes... \n",
    "    for k in range(7):\n",
    "        m.addConstrs(var[i,j,k] <= 50 for j in range(20))\n",
    "\n",
    "for k in range(7): #for the next 10 routes, where there are >1 stores to deliver to\n",
    "    for i in range(20,30):\n",
    "        m.addConstr(sum(var[i,j,k] for j in [int(routes.stop1[i]),int(routes.stop2[i])]) <= 50)\n",
    "\n",
    "# Store daily capacity constraints \n",
    "for k in range(7):\n",
    "    for j in range(20):\n",
    "        m.addConstr(sum(var[i,j,k] for i in range(30)) <= l[j])\n",
    "\n",
    "# Route-Store pairings \n",
    "for i in range(20):  #first 20 routes \n",
    "    for k in range(7): # for all 7 days (because as long as the store is not in the route, doesn't matter which day)\n",
    "        route_store = [int(routes.stop1[i])]\n",
    "        for j in range(20):\n",
    "            if j not in route_store: m.addConstr(var[i,j,k] == 0)\n",
    "                \n",
    "for i in range(20,30):\n",
    "    for k in range(7): \n",
    "        route_stores = [int(routes.stop1[i]), int(routes.stop2[i])]\n",
    "        for j in range(20):\n",
    "            if j not in route_stores: m.addConstr(var[i,j,k] == 0)\n",
    "    \n",
    "\n",
    "# Quantity has to be non-negative \n",
    "m.addConstr(var[i,j,k] >= 0)\n",
    "#\n",
    "print(i)"
   ]
  },
  {
   "cell_type": "code",
   "execution_count": 22,
   "metadata": {},
   "outputs": [
    {
     "data": {
      "text/plain": "1"
     },
     "execution_count": 22,
     "metadata": {},
     "output_type": "execute_result"
    }
   ],
   "source": [
    "int(routes.stop1[0])"
   ]
  },
  {
   "cell_type": "code",
   "execution_count": 23,
   "metadata": {},
   "outputs": [
    {
     "name": "stdout",
     "output_type": "stream",
     "text": [
      "Gurobi Optimizer version 9.1.1 build v9.1.1rc0 (mac64)\n",
      "Thread count: 6 physical cores, 12 logical processors, using up to 12 threads\n",
      "Optimize a model with 27832 rows, 8400 columns and 61072 nonzeros\n",
      "Model fingerprint: 0xc43d94ca\n",
      "Coefficient statistics:\n",
      "  Matrix range     [1e+00, 1e+00]\n",
      "  Objective range  [2e+00, 2e+00]\n",
      "  Bounds range     [0e+00, 0e+00]\n",
      "  RHS range        [2e+01, 2e+02]\n",
      "\n",
      "Concurrent LP optimizer: primal simplex, dual simplex, and barrier\n",
      "Showing barrier log only...\n",
      "\n",
      "Presolve removed 26996 rows and 0 columns\n",
      "Presolve time: 0.02s\n",
      "\n",
      "Solved with dual simplex\n",
      "Solved in 0 iterations and 0.02 seconds\n",
      "Infeasible model\n"
     ]
    }
   ],
   "source": [
    "# Solving the optimisation problem \n",
    "\n",
    "m.optimize()"
   ]
  },
  {
   "cell_type": "code",
   "execution_count": null,
   "metadata": {},
   "outputs": [],
   "source": [
    "# Printing the optimal solutions obtained "
   ]
  },
  {
   "cell_type": "code",
   "execution_count": null,
   "metadata": {},
   "outputs": [],
   "source": []
  }
 ],
 "metadata": {
  "kernelspec": {
   "name": "pycharm-4e3591cc",
   "language": "python",
   "display_name": "PyCharm (DBA3701 Optimization)"
  },
  "language_info": {
   "codemirror_mode": {
    "name": "ipython",
    "version": 3
   },
   "file_extension": ".py",
   "mimetype": "text/x-python",
   "name": "python",
   "nbconvert_exporter": "python",
   "pygments_lexer": "ipython3",
   "version": "3.8.5"
  }
 },
 "nbformat": 4,
 "nbformat_minor": 4
}