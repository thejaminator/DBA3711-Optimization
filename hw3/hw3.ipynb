{
 "cells": [
  {
   "cell_type": "markdown",
   "source": [
    "# Question 1\n",
    "a) Dual problem\n",
    "\n",
    "min $15p_1 + 15p_2 + 15p_3$\n",
    "\n",
    "s.t. $p_1, p_2, p_3 \\leq 0$\n",
    "\n",
    "$p_1 + 2p_2 + 2p_3 \\leq 1$\n",
    "\n",
    "$2p_1 + p_2 + 2p_3 \\leq 1$\n",
    "\n",
    "$2p_1 + 2p_2 + p_3 \\leq 1$\n",
    "\n",
    "b) Show that optimal solution is $x_1 = x_2 = x_3 = 3$\n",
    "\n",
    "We show the optimal solution by solving the primal problem"
   ],
   "metadata": {
    "collapsed": false
   }
  },
  {
   "cell_type": "code",
   "execution_count": 10,
   "outputs": [
    {
     "name": "stdout",
     "output_type": "stream",
     "text": [
      "<(3,) matrix variable>\n",
      "Gurobi Optimizer version 9.1.1 build v9.1.1rc0 (mac64)\n",
      "Thread count: 6 physical cores, 12 logical processors, using up to 12 threads\n",
      "Optimize a model with 3 rows, 3 columns and 9 nonzeros\n",
      "Model fingerprint: 0xb6e83bc2\n",
      "Coefficient statistics:\n",
      "  Matrix range     [1e+00, 2e+00]\n",
      "  Objective range  [1e+00, 1e+00]\n",
      "  Bounds range     [0e+00, 0e+00]\n",
      "  RHS range        [2e+01, 2e+01]\n",
      "Presolve time: 0.00s\n",
      "Presolved: 3 rows, 3 columns, 9 nonzeros\n",
      "\n",
      "Iteration    Objective       Primal Inf.    Dual Inf.      Time\n",
      "       0    3.0000000e+30   7.500000e+30   3.000000e+00      0s\n",
      "       3    9.0000000e+00   0.000000e+00   0.000000e+00      0s\n",
      "\n",
      "Solved in 3 iterations and 0.01 seconds\n",
      "Optimal objective  9.000000000e+00\n",
      "Primal Solutions:\n",
      "x[0] 3\n",
      "x[1] 3\n",
      "x[2] 3\n",
      "Dual Solutions:\n",
      "constraints[0] 0.2\n",
      "constraints[1] 0.2\n",
      "constraints[2] 0.2\n"
     ]
    }
   ],
   "source": [
    "from typing import Dict\n",
    "from gurobipy import *\n",
    "import numpy as np\n",
    "def qn1():\n",
    "    # Preparing an optimization model\n",
    "    model = Model(\"primal\")\n",
    "\n",
    "    # Declaring variables\n",
    "    x = model.addMVar(3, name='x')\n",
    "\n",
    "    print(x)\n",
    "    # Adding constraints\n",
    "    constraints_mat = np.array([[1, 2, 2],\n",
    "                                [2, 1, 2],\n",
    "                                [2, 2,1]])\n",
    "\n",
    "    model.addConstr(constraints_mat @ x <= np.array([15, 15 ,15]), name=\"constraints\")\n",
    "\n",
    "    model.setObjective(np.array([1,1,1]) @ x, GRB.MAXIMIZE)\n",
    "\n",
    "\n",
    "    model.optimize()\n",
    "    # print optimal solutions\n",
    "    print(\"Primal Solutions:\")\n",
    "    for v in model.getVars():\n",
    "        print('%s %g' % (v.varName, v.x))\n",
    "\n",
    "\n",
    "    print(\"Dual Solutions:\")\n",
    "    for d in model.getConstrs():\n",
    "        print('%s %g' % (d.ConstrName, d.Pi))\n",
    "\n",
    "qn1()"
   ],
   "metadata": {
    "collapsed": false,
    "pycharm": {
     "name": "#%%\n"
    }
   }
  },
  {
   "cell_type": "markdown",
   "source": [
    "(c) What are the shadow prices associated with the first three constraints.\n",
    "\n",
    "The shadow prices are $p_1, p_2, p_3 = 0.2$\n"
   ],
   "metadata": {
    "collapsed": false
   }
  },
  {
   "cell_type": "markdown",
   "source": [
    "# Question 2\n",
    "\n",
    "a) Formulate a linear program to maximum the daily profit of the company\n",
    "Decision variables:\n",
    "\n",
    "$N_i$: The number of product $i$ to production, where i = product one and two.\n",
    "\n",
    "Constants:\n",
    "\n",
    "$L_i$: The labour cost for one unit of product $i$\n",
    "\n",
    "$T_i$: The testing hours for one unit of product $i$\n",
    "\n",
    "\n",
    "Constraints:\n",
    "$\\sum_{i\\in products}L_iN_i \\leq 90$\n",
    "\n",
    "$\\sum_{i\\in products}T_iN_i \\leq 90$\n",
    "\n",
    "$L_1 \\geq 200$\n",
    "\n",
    "$L_2 \\geq 100$\n",
    "\n",
    "Objective function:\n",
    "max $(7-3)N_1 + (9-1)N_2$ =\n",
    "max $4N_1 + 8N_2$"
   ],
   "metadata": {
    "collapsed": false
   }
  },
  {
   "cell_type": "markdown",
   "source": [
    "b) Provide the python code for the shadow prices of assembly labor and testing"
   ],
   "metadata": {
    "collapsed": false
   }
  },
  {
   "cell_type": "code",
   "execution_count": null,
   "outputs": [],
   "source": [
    "from gurobipy import *\n",
    "import numpy as np\n",
    "\n",
    "def qn2():\n",
    "\n",
    "\n",
    "    # Preparing an optimization model\n",
    "    model = Model(\"qn2\")\n",
    "\n",
    "    # Declaring variables\n",
    "    N_1 = model.addVar(name='N_1')\n",
    "    N_2 = model.addVar(name='N_2')\n",
    "\n",
    "    # Declare constants\n",
    "    L_1 = 1/5\n",
    "    L_2 = 3/10\n",
    "    T_1 = 1/7\n",
    "    T_2 = 3/7\n",
    "\n",
    "\n",
    "    # Adding constraints\n",
    "    model.addConstr(L_1 * N_1 + L_2 * N_2 <= 90, name=\"Labour constraints\")\n",
    "    model.addConstr(T_1 * N_1 + T_2 * N_2 <= 90, name=\"Testing constraints\")\n",
    "\n",
    "    model.addConstr(N_1 >= 200, name=\"Item number 1 constraints\")\n",
    "    model.addConstr(N_2 >= 100, name=\"Item number 2 constraints\")\n",
    "\n",
    "    model.setObjective(4* N_1 + 8*N_2, GRB.MAXIMIZE)\n",
    "\n",
    "\n",
    "    model.optimize()\n",
    "    # print optimal solutions\n",
    "    print(\"Primal Solutions:\")\n",
    "    for v in model.getVars():\n",
    "        print('%s %g' % (v.varName, v.x))\n",
    "\n",
    "\n",
    "    print(\"Dual Solutions:\")\n",
    "    for d in model.getConstrs():\n",
    "        print('%s %g' % (d.ConstrName, d.Pi))\n",
    "\n",
    "qn2()"
   ],
   "metadata": {
    "collapsed": false,
    "pycharm": {
     "name": "#%%\n"
    }
   }
  },
  {
   "cell_type": "markdown",
   "source": [
    "Qn 2b answer: Shadow price for labour is 13.33, testing is 9.33"
   ],
   "metadata": {
    "collapsed": false
   }
  },
  {
   "cell_type": "markdown",
   "source": [
    "## Qn 3\n",
    "Formulate the LOP and solve for an assignment that minimizes total race time\n",
    "\n",
    "Decision variables:\n",
    "$S_{ij}$ Whether or not swimmer i should swim for style j\n",
    "\n",
    "Constants: $T_{ij}$ Time for swimmer i to swim for style j\n",
    "\n",
    "Objective function: min $\\sum_i\\sum_j T_{ij} S_{ij}$\n",
    "\n",
    "Constraints:\n",
    "\n",
    "$\\sum_{i\\in{swimmers}} S_{ij} = 1$ for all j $\\in$ styles. This indicates there is only one swimmer for each style.\n",
    "$\\sum_{j\\in{styles}} S_{ij} = 1$ for all i $\\in$ swimmers. This indicates there is only each swimmer must swim at least one syle.\n",
    "\n",
    "$Sij$ are all binary\n"
   ],
   "metadata": {
    "collapsed": false
   }
  },
  {
   "cell_type": "code",
   "execution_count": 38,
   "outputs": [
    {
     "name": "stdout",
     "output_type": "stream",
     "text": [
      "Gurobi Optimizer version 9.1.1 build v9.1.1rc0 (mac64)\n",
      "Thread count: 6 physical cores, 12 logical processors, using up to 12 threads\n",
      "Optimize a model with 8 rows, 16 columns and 32 nonzeros\n",
      "Model fingerprint: 0xccf4dcdb\n",
      "Variable types: 0 continuous, 16 integer (16 binary)\n",
      "Coefficient statistics:\n",
      "  Matrix range     [1e+00, 1e+00]\n",
      "  Objective range  [5e+01, 1e+07]\n",
      "  Bounds range     [1e+00, 1e+00]\n",
      "  RHS range        [1e+00, 1e+00]\n",
      "Found heuristic solution: objective 1.000016e+07\n",
      "Presolve time: 0.00s\n",
      "Presolved: 8 rows, 16 columns, 32 nonzeros\n",
      "Variable types: 0 continuous, 16 integer (16 binary)\n",
      "\n",
      "Root relaxation: objective 2.117000e+02, 7 iterations, 0.00 seconds\n",
      "\n",
      "    Nodes    |    Current Node    |     Objective Bounds      |     Work\n",
      " Expl Unexpl |  Obj  Depth IntInf | Incumbent    BestBd   Gap | It/Node Time\n",
      "\n",
      "*    0     0               0     211.7000000  211.70000  0.00%     -    0s\n",
      "\n",
      "Explored 0 nodes (7 simplex iterations) in 0.01 seconds\n",
      "Thread count was 12 (of 12 available processors)\n",
      "\n",
      "Solution count 2: 211.7 1.00002e+07 \n",
      "\n",
      "Optimal solution found (tolerance 1.00e-04)\n",
      "Best objective 2.117000000000e+02, best bound 2.117000000000e+02, gap 0.0000%\n",
      "Primal Solutions:\n",
      "Results\n",
      "[[ 1. -0. -0. -0.]\n",
      " [-0. -0.  1. -0.]\n",
      " [-0.  1. -0.  0.]\n",
      " [ 0. -0. -0.  1.]]\n"
     ]
    }
   ],
   "source": [
    "from gurobipy import *\n",
    "import numpy as np\n",
    "def qn3():\n",
    "    # Preparing an optimization model\n",
    "    model = Model(\"qn3\")\n",
    "\n",
    "    # Declaring variables\n",
    "    S = model.addMVar((4,4), name='S', vtype=GRB.BINARY)\n",
    "\n",
    "    # Adding style matrix\n",
    "    # Use float('inf') to represent N.A\n",
    "    style_mat = np.array([[48.3, 9999999, 66.0, 55.4],\n",
    "                          [50.2, 53.2, 58.9, 56.2],\n",
    "                          [47.5, 49.8, 9999999, 53.0],\n",
    "                          [48.1, 51.8, 64.4, 54.7]])\n",
    "\n",
    "    for style in [0, 1,2,3]:\n",
    "        model.addConstr(S[:,style].sum() == 1, name=\"style constraints\")\n",
    "    for swimmer in [0, 1,2,3]:\n",
    "        model.addConstr(S[swimmer,:].sum() == 1, name=\"swimmer constraints\")\n",
    "\n",
    "\n",
    "    # Gurobi can't do 4x4 mul 4x4 matrix with MVars, so we need to do this instead\n",
    "    obj = sum(S[swimmer,:] @ style_mat[swimmer,:] for swimmer in [0,1,2,3])\n",
    "    model.setObjective(obj, GRB.MINIMIZE)\n",
    "\n",
    "\n",
    "    model.optimize()\n",
    "    # print optimal solutions\n",
    "    print(\"Primal Solutions:\")\n",
    "\n",
    "    results = []\n",
    "    for v in model.getVars():\n",
    "        results.append(v.x)\n",
    "        # print('%s %g' % (v.varName, v.x))\n",
    "\n",
    "    print(\"Results\")\n",
    "    print(np.array(results).reshape((4,4)))\n",
    "qn3()"
   ],
   "metadata": {
    "collapsed": false,
    "pycharm": {
     "name": "#%%\n"
    }
   }
  },
  {
   "cell_type": "markdown",
   "source": [
    "Qn 3 Answer:\n",
    " Swimmer 1 should swim for FreeStyle.\n",
    "Swimmer 2 should swim for BreastStroke.\n",
    "Swimmer 3 should swim for Butterfly.\n",
    "Swimmer 4 should swim for Backstroke\n",
    "\n",
    "This gives a total time of 211.7 seconds"
   ],
   "metadata": {
    "collapsed": false,
    "pycharm": {
     "name": "#%% md\n"
    }
   }
  },
  {
   "cell_type": "markdown",
   "source": [
    "## Qn 4\n",
    "a) Maximize the total flow from Node 1 to Node 9\n",
    "\n",
    "\n",
    "Constraints:\n",
    "Flow balance constraints\n",
    "\n",
    "Non negativity\n",
    "\n",
    "\n",
    "Objective function:\n",
    "max $flow$\n",
    "\n",
    "Constants:\n",
    "\n",
    "$C_{ij}$: Capacity of arc from Node i to j\n",
    "\n",
    "Decision variables:\n",
    "$X_{ij}$: Amount to ship from one node $i$ to node $j$. $X_{12}$, $X_{13}$, $X_{15}$,\n",
    "$X_{23}$, $X_{26}$, $X_{34}$, $X_{47}$, $X_{49}$, $X_{56}$, $X_{57}$, $X_{69}$, $X_{79}$,\n",
    "\n",
    "Flow Node Constraints:\n",
    "\n",
    "Node 1 (source): $flow$ = $X_{12}$ + $X_{13}$ + $X_{15}$\n",
    "\n",
    "Node 9 (sink) :$flow$ = $X_{69}$ + $X_{79}$ + $X_{49}$\n",
    "\n",
    "Other nodes:\n",
    "$\\sum_{a\\in{nodes}} X_{aj}$ = $\\sum_{b\\in{nodes}}X_{jb}$ for all j = 2 ... 8\n",
    "\n",
    "\n",
    "Capacity Constraints $0 \\leq X_{ij} \\leq C_{ij}$:\n",
    "\n",
    "$X_{12} \\leq 7$\n",
    "\n",
    "$X_{13} \\leq 7$\n",
    "\n",
    "$X_{15} \\leq 8$\n",
    "\n",
    "$X_{23} \\leq 5$\n",
    "\n",
    "$X_{26} \\leq 10$\n",
    "\n",
    "$X_{26} \\leq 10$\n",
    "\n",
    "$X_{34} \\leq 12$\n",
    "\n",
    "$X_{47} \\leq 4$\n",
    "\n",
    "$X_{49} \\leq 7$\n",
    "\n",
    "$X_{56} \\leq 11$\n",
    "\n",
    "$X_{57} \\leq 12$\n",
    "\n",
    "$X_{69} \\leq 13$\n",
    "\n",
    "$X_{79} \\leq 2$\n"
   ],
   "metadata": {
    "collapsed": false,
    "pycharm": {
     "name": "#%% md\n"
    }
   }
  },
  {
   "cell_type": "code",
   "execution_count": 103,
   "outputs": [
    {
     "name": "stdout",
     "output_type": "stream",
     "text": [
      "(1, 2)\n",
      "(2, 3)\n",
      "(2, 6)\n",
      "(2, 7)\n",
      "Gurobi Optimizer version 9.1.1 build v9.1.1rc0 (mac64)\n",
      "Thread count: 6 physical cores, 12 logical processors, using up to 12 threads\n",
      "Optimize a model with 8 rows, 13 columns and 25 nonzeros\n",
      "Model fingerprint: 0xb2e3f293\n",
      "Coefficient statistics:\n",
      "  Matrix range     [1e+00, 1e+00]\n",
      "  Objective range  [1e+00, 1e+00]\n",
      "  Bounds range     [5e+00, 2e+01]\n",
      "  RHS range        [0e+00, 0e+00]\n",
      "Presolve removed 8 rows and 13 columns\n",
      "Presolve time: 0.00s\n",
      "Presolve: All rows and columns removed\n",
      "Iteration    Objective       Primal Inf.    Dual Inf.      Time\n",
      "       0   -0.0000000e+00   0.000000e+00   0.000000e+00      0s\n",
      "\n",
      "Solved in 0 iterations and 0.01 seconds\n",
      "Optimal objective -0.000000000e+00\n",
      "Solutions for each arc:\n",
      "For Max Total Flow:\n",
      "Flow on Link (1, 2): 0\n",
      "Flow on Link (1, 3): 0\n",
      "Flow on Link (1, 5): 0\n",
      "Flow on Link (2, 3): 0\n",
      "Flow on Link (2, 6): 0\n",
      "Flow on Link (2, 7): 0\n",
      "Flow on Link (3, 4): 0\n",
      "Flow on Link (4, 7): 0\n",
      "Flow on Link (4, 9): 0\n",
      "Flow on Link (5, 6): 0\n",
      "Flow on Link (5, 7): 0\n",
      "Flow on Link (6, 9): 0\n",
      "Flow on Link (7, 9): 0\n"
     ]
    }
   ],
   "source": [
    "from gurobipy import *\n",
    "import numpy as np\n",
    "def qn3():\n",
    "    # Preparing an optimization model\n",
    "    model = Model(\"qn3\")\n",
    "\n",
    "\n",
    "    arcs, arcs_caps_dict = multidict({(1,2): 9, (1,3): 5, (1,5): 20, (2,3): 18, (2,6): 20, (2,7): 15,\n",
    "                       (3,4): 15, (4,7): 5, (4,9): 16, (5,6): 14, (5,7): 5, (6,9): 6,\n",
    "                       (7,9): 8\n",
    "                       })\n",
    "\n",
    "    variables = model.addVars(arcs, ub = arcs_caps_dict)\n",
    "    nodes = range(1,10)\n",
    "\n",
    "    for a in arcs.select('*', 2):\n",
    "        print(a)\n",
    "    for a in (arcs.select(2, '*')):\n",
    "        print(a)\n",
    "\n",
    "\n",
    "    # Add flow constraints\n",
    "    for node in nodes[2:9]: # Don't include first and last nodes!\n",
    "        lhs = [variables[a] for a in arcs.select('*', node)]\n",
    "        rhs = [variables[b] for b in arcs.select(node, '*')]\n",
    "        model.addConstr(sum(lhs) == sum(rhs))\n",
    "\n",
    "    flow = sum(variables[a] for a in arcs.select(1,'*'))\n",
    "    model.addConstr(flow == sum(variables[a] for a in arcs.select('*', 9))) # All nodes that end with 9.\n",
    "\n",
    "    # Add capacity constraints\n",
    "    model.setObjective(flow, GRB.MAXIMIZE)\n",
    "\n",
    "\n",
    "    model.optimize()\n",
    "    # print optimal solutions\n",
    "    print(\"Solutions for each arc:\")\n",
    "\n",
    "    #printing the optimal solutions obtained\n",
    "    p = model.getAttr('x', variables)\n",
    "    print(\"For Max Total Flow:\")\n",
    "    for arc in arcs:\n",
    "        print(\"Flow on Link %s: %g\" % (arc , p[arc]))\n",
    "\n",
    "qn3()"
   ],
   "metadata": {
    "collapsed": false,
    "pycharm": {
     "name": "#%%\n"
    }
   }
  },
  {
   "cell_type": "code",
   "execution_count": null,
   "outputs": [],
   "source": [
    "def qn3b():\n",
    "    model = Model('qn3b')\n",
    "    nodes = range(1,10)\n",
    "    intermediate_nodes = nodes[2:9]\n",
    "    \n",
    "    arcs, arcs_cost_dict = multidict({(1,2): 9, (1,3): 5, (1,5): 20, (2,3): 18, (2,6): 20, (2,7): 15,\n",
    "                       (3,4): 15, (4,7): 5, (4,9): 16, (5,6): 14, (5,7): 5, (6,9): 6,\n",
    "                       (7,9): 8\n",
    "                       })\n",
    "\n",
    "    variables = model.addVars(arcs)\n",
    "\n",
    "    #defining decision variables\n",
    "    \n",
    "    #setting the objective\n",
    "    model.setObjective(quicksum(variables[arc]*arcs_cost_dict[arc] for arc in arcs), GRB.MINIMIZE)\n",
    "\n",
    "    #adding the flow conservation constraints (outflow - inflow)\n",
    "    model.addConstrs(quicksum(variables[arc] for arc in arcs.select(i,'*')) ==  quicksum(variables[arc] for arc in arcs.select('*',i))\n",
    "                     for i in intermediate_nodes)\n",
    "    model.addConstr(quicksum(variables[arc] for arc in arcs.select(1,'*')) - quicksum(variables[arc] for arc in arcs.select('*',1))\n",
    "                    == 1)\n",
    "    model.addConstr(quicksum(variables[arc] for arc in arcs.select(9,'*')) - quicksum(variables[arc] for arc in arcs.select('*',9))\n",
    "                    == -1)\n",
    "\n",
    "    model.optimize()\n",
    "\n",
    "    #printing the optimal solutions obtained\n",
    "    print(\"\\nOptimal Value: \\t%g\\n\" % model.objVal)\n",
    "\n",
    "    #printing the optimal solutions obtained\n",
    "    p = model.getAttr('x', variables)\n",
    "    print(\"Shortest Path:\")\n",
    "    for arc in arcs:\n",
    "        if p[arc] == 1:\n",
    "            print(\"Move from Node %g to Node %g\" % (link[0] , link[1]))\n",
    "\n",
    "qn3b()"
   ],
   "metadata": {
    "collapsed": false,
    "pycharm": {
     "name": "#%%\n"
    }
   }
  }
 ],
 "metadata": {
  "kernelspec": {
   "name": "pycharm-4e3591cc",
   "language": "python",
   "display_name": "PyCharm (DBA3701 Optimization)"
  },
  "language_info": {
   "codemirror_mode": {
    "name": "ipython",
    "version": 2
   },
   "file_extension": ".py",
   "mimetype": "text/x-python",
   "name": "python",
   "nbconvert_exporter": "python",
   "pygments_lexer": "ipython2",
   "version": "2.7.6"
  }
 },
 "nbformat": 4,
 "nbformat_minor": 0
}