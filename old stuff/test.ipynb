{
 "cells": [
  {
   "cell_type": "code",
   "execution_count": 2,
   "metadata": {
    "collapsed": true
   },
   "outputs": [
    {
     "name": "stdout",
     "output_type": "stream",
     "text": [
      "[[ 5 13]\n",
      " [ 0  3]]\n",
      "[[ 1  4]\n",
      " [-2 -5]\n",
      " [ 3  7]]\n",
      "[[1 1 2]\n",
      " [2 1 0]]\n",
      "[[  9 -12  17]\n",
      " [  5  -7  10]\n",
      " [  2  -4   6]]\n"
     ]
    }
   ],
   "source": [
    "import numpy as np\n",
    "from numpy.linalg import linalg\n",
    "a = np.array([[1, -2, 3],[4, -5 ,7]])\n",
    "b = np.array([[1, 2],[1, 1], [2,0]])\n",
    "\n",
    "print(np.matmul(a, b).transpose())\n",
    "print(a.transpose())\n",
    "print(b.transpose())\n",
    "\n",
    "print(np.matmul(a.transpose(), b.transpose()).transpose())"
   ]
  },
  {
   "cell_type": "code",
   "execution_count": 3,
   "outputs": [
    {
     "name": "stdout",
     "output_type": "stream",
     "text": [
      "[[ 0. -1.]\n",
      " [ 1.  2.]]\n"
     ]
    }
   ],
   "source": [
    "a = np.array([[2, 1],[-1 ,0]])\n",
    "\n",
    "print(linalg.inv(a))"
   ],
   "metadata": {
    "collapsed": false,
    "pycharm": {
     "name": "#%%\n"
    }
   }
  },
  {
   "cell_type": "code",
   "execution_count": 6,
   "outputs": [
    {
     "name": "stdout",
     "output_type": "stream",
     "text": [
      "[[ 0.  1.]\n",
      " [-1.  2.]]\n"
     ]
    }
   ],
   "source": [
    "a = np.array([[2, 1],[-1 ,0]])\n",
    "\n",
    "a.transpose()\n",
    "print(linalg.inv(a.transpose()))"
   ],
   "metadata": {
    "collapsed": false,
    "pycharm": {
     "name": "#%%\n"
    }
   }
  },
  {
   "cell_type": "code",
   "execution_count": 7,
   "outputs": [
    {
     "name": "stdout",
     "output_type": "stream",
     "text": [
      "[[ 0.  1.]\n",
      " [-1.  2.]]\n"
     ]
    }
   ],
   "source": [
    "print(linalg.inv(a).transpose())\n",
    "\n"
   ],
   "metadata": {
    "collapsed": false,
    "pycharm": {
     "name": "#%%\n"
    }
   }
  },
  {
   "cell_type": "code",
   "execution_count": null,
   "outputs": [],
   "source": [],
   "metadata": {
    "collapsed": false,
    "pycharm": {
     "name": "#%%\n"
    }
   }
  }
 ],
 "metadata": {
  "kernelspec": {
   "display_name": "Python 3",
   "language": "python",
   "name": "python3"
  },
  "language_info": {
   "codemirror_mode": {
    "name": "ipython",
    "version": 2
   },
   "file_extension": ".py",
   "mimetype": "text/x-python",
   "name": "python",
   "nbconvert_exporter": "python",
   "pygments_lexer": "ipython2",
   "version": "2.7.6"
  }
 },
 "nbformat": 4,
 "nbformat_minor": 0
}