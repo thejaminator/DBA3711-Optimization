{
 "cells": [
  {
   "cell_type": "markdown",
   "metadata": {},
   "source": [
    "# Code for Lecture 4 Hands on Session"
   ]
  },
  {
   "cell_type": "code",
   "execution_count": null,
   "outputs": [],
   "source": [
    "!grbgetlicense"
   ],
   "metadata": {
    "collapsed": false,
    "pycharm": {
     "name": "#%%\n",
     "is_executing": true
    }
   }
  },
  {
   "cell_type": "code",
   "execution_count": 3,
   "metadata": {},
   "outputs": [],
   "source": [
    "\n",
    "from gurobipy import *\n",
    "from math import sqrt\n",
    "import pandas as pd\n",
    "import numpy as np\n",
    "import matplotlib\n",
    "import matplotlib.pyplot as plt\n"
   ]
  },
  {
   "cell_type": "markdown",
   "metadata": {},
   "source": [
    "# LP： InvestmentStock\n",
    "The data is in the file \"data1.csv\"\n",
    "The model is LP:\n",
    "\\begin{equation}\n",
    "\\begin{array}{ll}\n",
    "\\text{maximize} &  \\sum_{i=1}^{N}r_i(s_i-x_i)\\\\\n",
    "\\text{subject to} &  \\sum_{i=1}^{N}(q_i x_i - 0.3\\max(q_i-p_i,0)x_i-0.01x_iq_i) \\ge K\\\\\n",
    " & 0\\le x_i\\le s_i, \\forall i = 1,...,N\n",
    "\\end{array}\n",
    "\\end{equation}\n",
    "Default: K=9000"
   ]
  },
  {
   "cell_type": "code",
   "execution_count": 4,
   "metadata": {
    "scrolled": true
   },
   "outputs": [
    {
     "name": "stdout",
     "output_type": "stream",
     "text": [
      "[['S1' 1.2 1000 2.1 2.0]\n",
      " ['S2' 2.1 1000 3.2 3.7]\n",
      " ['S3' 3.2 1000 4.1 5.2]\n",
      " ['S4' 4.1 1000 5.1 7.1]\n",
      " ['S5' 4.5 1000 6.7 9.1]]\n"
     ]
    },
    {
     "ename": "NameError",
     "evalue": "name 'happy' is not defined",
     "output_type": "error",
     "traceback": [
      "\u001B[0;31m---------------------------------------------------------------------------\u001B[0m",
      "\u001B[0;31mNameError\u001B[0m                                 Traceback (most recent call last)",
      "\u001B[0;32m<ipython-input-4-c65faee6eff4>\u001B[0m in \u001B[0;36m<module>\u001B[0;34m\u001B[0m\n\u001B[1;32m     13\u001B[0m \u001B[0;31m#print(type(buy_price))\u001B[0m\u001B[0;34m\u001B[0m\u001B[0;34m\u001B[0m\u001B[0;34m\u001B[0m\u001B[0m\n\u001B[1;32m     14\u001B[0m \u001B[0;31m#print({item[0]: (item[1], item[2], item[3], item[4]) for item in data })\u001B[0m\u001B[0;34m\u001B[0m\u001B[0;34m\u001B[0m\u001B[0;34m\u001B[0m\u001B[0m\n\u001B[0;32m---> 15\u001B[0;31m \u001B[0mprint\u001B[0m\u001B[0;34m(\u001B[0m\u001B[0mhappy\u001B[0m\u001B[0;34m)\u001B[0m\u001B[0;34m\u001B[0m\u001B[0;34m\u001B[0m\u001B[0m\n\u001B[0m\u001B[1;32m     16\u001B[0m \u001B[0;34m\u001B[0m\u001B[0m\n",
      "\u001B[0;31mNameError\u001B[0m: name 'happy' is not defined"
     ]
    }
   ],
   "source": [
    "# read data \n",
    "data1 = pd.read_csv('data1.csv')\n",
    "#print(data1)\n",
    "#print(type(data1))\n",
    "header = data1.columns\n",
    "data = data1.values\n",
    "print(data)\n",
    "stock, buy_price, cur_share, cur_price, exp_price = multidict({item[0]: (item[1], item[2], item[3],item[4]) \n",
    "                                                              for item in data })#print(stock)   #Index of different stocks\n",
    "#print(stock)\n",
    "#print(buy_price)   #one parameter, in a dictionary format\n",
    "#print(buy_price['S2'])\n",
    "#print(type(buy_price))\n",
    "#print({item[0]: (item[1], item[2], item[3], item[4]) for item in data })\n",
    "print(happy)"
   ]
  },
  {
   "cell_type": "code",
   "execution_count": 5,
   "metadata": {},
   "outputs": [
    {
     "name": "stdout",
     "output_type": "stream",
     "text": [
      "Academic license - for non-commercial use only - expires 2021-03-22\n",
      "Using license file /Users/jameschua/gurobi.lic\n",
      "Gurobi Optimizer version 9.1.1 build v9.1.1rc0 (mac64)\n",
      "Thread count: 6 physical cores, 12 logical processors, using up to 12 threads\n",
      "Optimize a model with 1 rows, 5 columns and 5 nonzeros\n",
      "Model fingerprint: 0x18620101\n",
      "Coefficient statistics:\n",
      "  Matrix range     [2e+00, 6e+00]\n",
      "  Objective range  [2e+00, 9e+00]\n",
      "  Bounds range     [1e+03, 1e+03]\n",
      "  RHS range        [9e+03, 9e+03]\n",
      "Presolve time: 0.01s\n",
      "Presolved: 1 rows, 5 columns, 5 nonzeros\n",
      "\n",
      "Iteration    Objective       Primal Inf.    Dual Inf.      Time\n",
      "       0    2.7100000e+04   5.625000e+02   0.000000e+00      0s\n",
      "       1    1.5356791e+04   0.000000e+00   0.000000e+00      0s\n",
      "\n",
      "Solved in 1 iterations and 0.01 seconds\n",
      "Optimal objective  1.535679090e+04\n",
      "<gurobi.LinExpr: 27100.0 + -2.0 sell[S1] + -3.7 sell[S2] + -5.2 sell[S3] + -7.1 sell[S4] + -9.1 sell[S5]>\n"
     ]
    }
   ],
   "source": [
    "# build model \n",
    "K = 9e+3 # set target\n",
    "\n",
    "m1 = Model(\"investlp\")\n",
    "sell = m1.addVars(stock, ub = cur_share, lb=0, name = \"sell\")    # Add variables, upper bound is the current share\n",
    "#print(sell)\n",
    "obj = sum( exp_price[i] * (cur_share[i] - sell[i]) for i in stock) \n",
    "m1.setObjective( obj, GRB.MAXIMIZE)  # Maximize future portfolio value\n",
    "\n",
    "m1.addConstr( sum(sell[i]*cur_price[i] - 0.3*sell[i]*( max(cur_price[i]-buy_price[i],0)) - 0.01*sell[i]*cur_price[i] \n",
    "                       for i in stock) >= K, \"target\")  \n",
    "m1.optimize()\n",
    "\n",
    "\n",
    "def printSolution1():\n",
    "    if m1.status == GRB.Status.OPTIMAL:\n",
    "        print('\\nNext year expected portfolio: %g' % m1.objVal)\n",
    "        print('\\nSell:')\n",
    "        sellx = m1.getAttr('x', sell)   # a dictionary\n",
    "        for i in stock:\n",
    "            print('%s %g' % (i, sellx[i]))\n",
    "    else:\n",
    "        print('No solution')\n",
    "\n",
    "#printSolution1() \n",
    "\n",
    "print(obj)"
   ]
  },
  {
   "cell_type": "markdown",
   "metadata": {},
   "source": [
    "## LP： InvestmentBonds\n",
    "The data is in the file \"data3.csv\""
   ]
  },
  {
   "cell_type": "code",
   "execution_count": 6,
   "metadata": {},
   "outputs": [
    {
     "name": "stdout",
     "output_type": "stream",
     "text": [
      "  Bond  Available Year  Maturity Period  Annual Interest Rate     Limit  \\\n",
      "0   B1               1                4                   0.03  1000000   \n",
      "1   B2               5                1                   0.04   200000   \n",
      "2   B3               2                4                   0.05   500000   \n",
      "3   B4               2                3                   0.06   200000   \n",
      "\n",
      "   End Year  \n",
      "0         5  \n",
      "1         6  \n",
      "2         6  \n",
      "3         5  \n",
      "[['B1' 1 4 0.03 1000000 5]\n",
      " ['B2' 5 1 0.04 200000 6]\n",
      " ['B3' 2 4 0.05 500000 6]\n",
      " ['B4' 2 3 0.06 200000 5]]\n",
      "{'B1': 1.1255088100000001, 'B2': 1.04, 'B3': 1.2155062500000002, 'B4': 1.191016}\n"
     ]
    }
   ],
   "source": [
    "# Investment in bonds\n",
    "\n",
    "# Initialization\n",
    "capital = 1000000         # Investment capital\n",
    "cashRate = 0.02;           # Cash Intereset rate\n",
    "\n",
    "cashRet = (1.0+cashRate)  # Cash return\n",
    "\n",
    "# Read from bond data file\n",
    "data2 = pd.read_csv(\"data2.csv\")\n",
    "header = data2.columns\n",
    "#print(data2)\n",
    "\n",
    "#Determine parameter from data \n",
    "data2['End Year'] = data2['Available Year'] + data2['Maturity Period'] # Bond matrity date\n",
    "\n",
    "print(data2)\n",
    "\n",
    "T = max(data2['End Year'])-1        # Investment Time period\n",
    "N = data2['Bond'].count()        # Number of bonds\n",
    "\n",
    "\n",
    "data = data2.values\n",
    "print(data)\n",
    "# Extract data to variables and Calculate bond return\n",
    "# Bond Index, Start Year, Duration of bond, Bond interest rate per year, Bond limit, End Year, Bond return\n",
    "bondName, bondStYear, bondDuration, bondRate, bondLimit, bondEndYear, bondRet = multidict(\n",
    "    {item[0]: [item[1], item[2], item[3], item[4], item[5], (1+item[3])**(item[2])] for item in data })\n",
    "\n",
    "print(bondRet)\n"
   ]
  },
  {
   "cell_type": "code",
   "execution_count": 48,
   "metadata": {},
   "outputs": [
    {
     "name": "stdout",
     "output_type": "stream",
     "text": [
      "Optimize a model with 5 rows, 9 columns and 13 nonzeros\n",
      "Coefficient statistics:\n",
      "  Matrix range     [1e+00, 1e+00]\n",
      "  Objective range  [1e+00, 1e+00]\n",
      "  Bounds range     [2e+05, 1e+06]\n",
      "  RHS range        [1e+06, 1e+06]\n",
      "Presolve removed 5 rows and 9 columns\n",
      "Presolve time: 0.01s\n",
      "Presolve: All rows and columns removed\n",
      "Iteration    Objective       Primal Inf.    Dual Inf.      Time\n",
      "       0    1.1746178e+06   0.000000e+00   0.000000e+00      0s\n",
      "\n",
      "Solved in 0 iterations and 0.03 seconds\n",
      "Optimal objective  1.174617848e+06\n",
      "\n",
      "Optimal Investment Return : 1.17462e+06\n",
      "\n",
      "Bond:\n",
      "B1 0\n",
      "B2 200000\n",
      "B3 500000\n",
      "B4 0\n",
      "1 1e+06\n",
      "2 520000\n",
      "3 530400\n",
      "4 541008\n",
      "5 351828\n"
     ]
    }
   ],
   "source": [
    "# Declare Model\n",
    "m2 = Model('BondCash Invest')\n",
    "\n",
    "# Declaring variables\n",
    "bond = m2.addVars(bondName, ub = bondLimit, name = 'Bond') # Bond and  Bond Limit\n",
    "cash = m2.addVars(T, name = 'Cash') # Cash\n",
    "# Defining constraints\n",
    "# Year 1\n",
    "m2.addConstr( cash[0] + quicksum(bond[j] for j in bondName if bondStYear[j] ==1) <= capital)\n",
    "\n",
    "# Year 2 to T\n",
    "for t in range(1,T):\n",
    "    m2.addConstr(cash[t] + quicksum(bond[j] for j in bondName if bondStYear[j]==t+1) == \n",
    "                  cashRet*cash[t-1] + quicksum(bondRet[j]*bond[j] for j in bondName if bondEndYear[j]==t))\n",
    "\n",
    "# Setting the objective\n",
    "m2.setObjective(cashRet*cash[T-1] + quicksum(bondRet[j]*bond[j] for j in bondName if bondEndYear[j]==T+1), GRB.MAXIMIZE)\n",
    "\n",
    "# Solving the optimization problem\n",
    "m2.optimize()\n",
    "\n",
    "# Printing the optimal solutions obtained\n",
    "def printSolution2():\n",
    "    if m1.status == GRB.Status.OPTIMAL:\n",
    "        print('\\nOptimal Investment Return : %g' % m2.objVal)\n",
    "        print('\\nBond:')\n",
    "        bondx = m2.getAttr('x', bond)\n",
    "        for i in bond:\n",
    "            print('%s %g' % (i, bondx[i]))\n",
    "        cashx = m2.getAttr('x', cash)  \n",
    "        for i in cash:\n",
    "            print('%s %g' % (i+1, cashx[i]))\n",
    "    else:\n",
    "        print('No solution')\n",
    "\n",
    "printSolution2() "
   ]
  },
  {
   "cell_type": "code",
   "execution_count": null,
   "metadata": {
    "collapsed": true
   },
   "outputs": [],
   "source": [
    "\n"
   ]
  },
  {
   "cell_type": "code",
   "execution_count": null,
   "metadata": {
    "collapsed": true
   },
   "outputs": [],
   "source": []
  },
  {
   "cell_type": "code",
   "execution_count": null,
   "metadata": {
    "collapsed": true
   },
   "outputs": [],
   "source": [
    "\n"
   ]
  },
  {
   "cell_type": "code",
   "execution_count": null,
   "metadata": {
    "collapsed": true
   },
   "outputs": [],
   "source": []
  },
  {
   "cell_type": "code",
   "execution_count": null,
   "metadata": {
    "collapsed": true
   },
   "outputs": [],
   "source": []
  }
 ],
 "metadata": {
  "kernelspec": {
   "name": "pycharm-4e3591cc",
   "language": "python",
   "display_name": "PyCharm (DBA3701 Optimization)"
  },
  "language_info": {
   "codemirror_mode": {
    "name": "ipython",
    "version": 3
   },
   "file_extension": ".py",
   "mimetype": "text/x-python",
   "name": "python",
   "nbconvert_exporter": "python",
   "pygments_lexer": "ipython3",
   "version": "3.6.4"
  }
 },
 "nbformat": 4,
 "nbformat_minor": 2
}