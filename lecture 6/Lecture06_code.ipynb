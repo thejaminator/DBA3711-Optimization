{
 "cells": [
  {
   "cell_type": "code",
   "execution_count": 1,
   "metadata": {
    "collapsed": true
   },
   "outputs": [],
   "source": [
    "from gurobipy import *\n",
    "import numpy as np"
   ]
  },
  {
   "cell_type": "code",
   "execution_count": 5,
   "metadata": {},
   "outputs": [
    {
     "name": "stdout",
     "output_type": "stream",
     "text": [
      "Optimize a model with 3 rows, 5 columns and 15 nonzeros\n",
      "Coefficient statistics:\n",
      "  Matrix range     [1e+00, 9e+00]\n",
      "  Objective range  [1e+00, 8e+00]\n",
      "  Bounds range     [0e+00, 0e+00]\n",
      "  RHS range        [2e+01, 5e+01]\n",
      "Presolve time: 0.01s\n",
      "Presolved: 3 rows, 5 columns, 15 nonzeros\n",
      "\n",
      "Iteration    Objective       Primal Inf.    Dual Inf.      Time\n",
      "       0    2.3000000e+31   1.087500e+31   2.300000e+01      0s\n",
      "       1    1.7777778e+01   0.000000e+00   0.000000e+00      0s\n",
      "\n",
      "Solved in 1 iterations and 0.02 seconds\n",
      "Optimal objective  1.777777778e+01\n",
      "Primal Solutions:\n",
      "x[0] 0\n",
      "x[1] 0\n",
      "x[2] 2.22222\n",
      "x[3] 0\n",
      "x[4] 0\n",
      "Obj: 17.7778\n",
      "Dual Solutions:\n",
      "R0 0.888889\n",
      "R1 0\n",
      "R2 0\n"
     ]
    }
   ],
   "source": [
    "# Manufacturing Problem: n products, m raw materials\n",
    "\n",
    "# Preparing parameters\n",
    "\n",
    "n = 5\n",
    "m =3\n",
    "\n",
    "c = [5 , 6 , 8,1, 3]\n",
    "\n",
    "# available units of material i\n",
    "b = [20,40,50]\n",
    "\n",
    "# units of material i product j needs in order to be produced\n",
    "a = np.array([[6, 7, 9, 8, 5], [7, 4, 1, 9, 6], [8, 3, 5, 7, 2]])\n",
    "\n",
    "# Preparing an optimization model\n",
    "mod = Model(\"dual\")\n",
    "\n",
    "# Declaring variables\n",
    "x = mod.addVars(n, name='x')\n",
    "\n",
    "# Setting the objective\n",
    "mod.setObjective(sum(x[i] * c[i] for i in range(n)) , GRB.MAXIMIZE)\n",
    "\n",
    "# Adding constraints\n",
    "mod.addConstrs( quicksum(a[i,j] * x[j] for j in range(n)) <= b[i] for i in range(m))\n",
    "\n",
    "# Solving the optimization problem\n",
    "mod.optimize()\n",
    "\n",
    "# print optimal solutions\n",
    "print(\"Primal Solutions:\")\n",
    "for v in mod.getVars():\n",
    "    print('%s %g' % (v.varName, v.x))\n",
    "\n",
    "# print optimal value\n",
    "print('Obj: %g' % mod.objVal)\n",
    "\n",
    "print(\"Dual Solutions:\")\n",
    "for d in mod.getConstrs():\n",
    "    print('%s %g' % (d.ConstrName, d.Pi))"
   ]
  }
 ],
 "metadata": {
  "kernelspec": {
   "display_name": "Python 3",
   "language": "python",
   "name": "python3"
  },
  "language_info": {
   "codemirror_mode": {
    "name": "ipython",
    "version": 3
   },
   "file_extension": ".py",
   "mimetype": "text/x-python",
   "name": "python",
   "nbconvert_exporter": "python",
   "pygments_lexer": "ipython3",
   "version": "3.8.5"
  }
 },
 "nbformat": 4,
 "nbformat_minor": 2
}
