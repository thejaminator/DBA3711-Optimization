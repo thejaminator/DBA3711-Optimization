{
 "cells": [
  {
   "cell_type": "code",
   "execution_count": 1,
   "metadata": {},
   "outputs": [],
   "source": [
    "from gurobipy import *\n",
    "from math import sqrt\n",
    "import pandas as pd\n",
    "import numpy as np\n",
    "import matplotlib\n",
    "import matplotlib.pyplot as plt\n",
    "import xlrd"
   ]
  },
  {
   "cell_type": "code",
   "execution_count": 18,
   "metadata": {},
   "outputs": [
    {
     "name": "stdout",
     "output_type": "stream",
     "text": [
      "Optimize a model with 324 rows, 729 columns and 2916 nonzeros\n",
      "Variable types: 0 continuous, 729 integer (729 binary)\n",
      "Coefficient statistics:\n",
      "  Matrix range     [1e+00, 1e+00]\n",
      "  Objective range  [0e+00, 0e+00]\n",
      "  Bounds range     [1e+00, 1e+00]\n",
      "  RHS range        [1e+00, 1e+00]\n",
      "Found heuristic solution: objective 0.0000000\n",
      "\n",
      "Explored 0 nodes (0 simplex iterations) in 0.05 seconds\n",
      "Thread count was 1 (of 4 available processors)\n",
      "\n",
      "Solution count 1: 0 \n",
      "\n",
      "Optimal solution found (tolerance 1.00e-04)\n",
      "Best objective 0.000000000000e+00, best bound 0.000000000000e+00, gap 0.0000%\n",
      "[[3. 4. 5. 6. 2. 8. 7. 1. 9.]\n",
      " [7. 6. 8. 1. 9. 3. 4. 5. 2.]\n",
      " [2. 9. 1. 5. 4. 7. 3. 6. 8.]\n",
      " [4. 1. 6. 3. 5. 9. 8. 2. 7.]\n",
      " [5. 7. 9. 4. 8. 2. 6. 3. 1.]\n",
      " [8. 2. 3. 7. 1. 6. 5. 9. 4.]\n",
      " [9. 3. 2. 8. 6. 4. 1. 7. 5.]\n",
      " [1. 8. 7. 9. 3. 5. 2. 4. 6.]\n",
      " [6. 5. 4. 2. 7. 1. 9. 8. 3.]]\n"
     ]
    }
   ],
   "source": [
    "m = Model('SuDoKu')\n",
    "# Load data\n",
    "initgrid = np.zeros([9,9])\n",
    "\n",
    "# Solve model\n",
    "x = m.addVars(9,9,9,vtype = GRB.BINARY)\n",
    "\n",
    "m.addConstrs(quicksum(x[i,j,k] for j in range(9)) == 1 for i in range(9) for k in range(9))\n",
    "m.addConstrs(quicksum(x[i,j,k] for i in range(9)) == 1 for j in range(9) for k in range(9))\n",
    "m.addConstrs(quicksum(x[r,c,k] for r in np.arange(3*i,3*i+3) for c in np.arange(3*j, 3*j+3)) == 1 \n",
    "            for i in range(3) for j in range(3) for k in range(9))\n",
    "m.addConstrs(quicksum(x[i,j,k] for k in range(9)) == 1 for i in range(9) for j in range(9))\n",
    "\n",
    "m.setObjective( 0*x[0,0,0] , GRB.MINIMIZE)\n",
    "m.optimize()\n",
    "\n",
    "\n",
    "# Check solution\n",
    "p = m.getAttr('x', x)\n",
    "for i in range(9):\n",
    "    for j in range(9):\n",
    "        for k in range(9):\n",
    "            if p[i,j,k] == 1:\n",
    "                #print('%g, %g is %g' %(i,j,k))\n",
    "                initgrid[i,j] = k+1\n",
    "print(initgrid)"
   ]
  },
  {
   "cell_type": "code",
   "execution_count": null,
   "metadata": {},
   "outputs": [],
   "source": []
  },
  {
   "cell_type": "code",
   "execution_count": null,
   "metadata": {},
   "outputs": [],
   "source": []
  },
  {
   "cell_type": "code",
   "execution_count": null,
   "metadata": {},
   "outputs": [],
   "source": [
    "\n"
   ]
  },
  {
   "cell_type": "code",
   "execution_count": null,
   "metadata": {},
   "outputs": [],
   "source": []
  },
  {
   "cell_type": "code",
   "execution_count": null,
   "metadata": {},
   "outputs": [],
   "source": []
  },
  {
   "cell_type": "code",
   "execution_count": null,
   "metadata": {},
   "outputs": [],
   "source": []
  },
  {
   "cell_type": "code",
   "execution_count": null,
   "metadata": {},
   "outputs": [],
   "source": []
  },
  {
   "cell_type": "code",
   "execution_count": null,
   "metadata": {},
   "outputs": [],
   "source": []
  }
 ],
 "metadata": {
  "kernelspec": {
   "display_name": "Python 3",
   "language": "python",
   "name": "python3"
  },
  "language_info": {
   "codemirror_mode": {
    "name": "ipython",
    "version": 3
   },
   "file_extension": ".py",
   "mimetype": "text/x-python",
   "name": "python",
   "nbconvert_exporter": "python",
   "pygments_lexer": "ipython3",
   "version": "3.8.5"
  }
 },
 "nbformat": 4,
 "nbformat_minor": 2
}
