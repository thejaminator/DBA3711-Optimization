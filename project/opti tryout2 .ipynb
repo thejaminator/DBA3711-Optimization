{
 "cells": [
  {
   "cell_type": "code",
   "execution_count": 30,
   "metadata": {},
   "outputs": [],
   "source": [
    "import pandas as pd\n",
    "import urllib.request\n",
    "import json\n",
    "import numpy as np"
   ]
  },
  {
   "cell_type": "code",
   "execution_count": 31,
   "metadata": {},
   "outputs": [],
   "source": [
    "pokedex = pd.read_csv('pokedex.csv')\n",
    "moves = pd.read_csv('pokemon-moves.csv')\n",
    "url = 'https://raw.githubusercontent.com/Deskbot/Pokemon-Learnsets/master/output/gen3.json'\n",
    "with urllib.request.urlopen(url) as response:\n",
    "   page_content = response.read()\n",
    "learnset = json.loads(page_content)"
   ]
  },
  {
   "cell_type": "code",
   "execution_count": 32,
   "metadata": {},
   "outputs": [],
   "source": [
    "#clean pokedex to 151 pokemons in generation 1 (pokemons available in firered/ leafgreen)\n",
    "pokedex = pokedex.drop(pokedex.columns[0], axis = 1)\n",
    "pokedex_final = pokedex[pokedex['generation']==1].groupby('pokedex_number').first().reset_index()\n",
    "pokedex_final['lowercase_name'] = pokedex_final['name'].apply(lambda x: x.lower().replace(\" \", \"\"))"
   ]
  },
  {
   "cell_type": "code",
   "execution_count": 33,
   "metadata": {},
   "outputs": [],
   "source": [
    "#restructure learnset to long format\n",
    "learnset_df = pd.DataFrame.from_dict(learnset, orient = 'index').reset_index()\n",
    "learnset_df['level'] = learnset_df['level'].apply(lambda x: list(x.values())) \n",
    "learnset_final = pd.melt(learnset_df, id_vars = 'index', var_name = 'learn_by', value_name = 'move').explode('move')"
   ]
  },
  {
   "cell_type": "code",
   "execution_count": 34,
   "metadata": {},
   "outputs": [],
   "source": [
    "#join learnset to move statistic table\n",
    "#moves:'willowisp', 'doubleedge', 'mudslap', 'selfdestruct', 'lockon','softboiled' do not have matches! \n",
    "moves['move'] = moves['Name'].apply(lambda x: x.lower().replace(\" \", \"\"))\n",
    "moves_final = pd.merge(learnset_final, moves, on = 'move').drop(['Index'], axis = 1)\n",
    "moves_final.columns = map(str.lower, moves_final.columns)\n",
    "\n",
    "#to find moves with no matches, use left join and below code\n",
    "#moves_final['move'][moves_final['name'].isna() & moves_final['move'].notnull()].unique()"
   ]
  },
  {
   "cell_type": "code",
   "execution_count": 35,
   "metadata": {},
   "outputs": [
    {
     "data": {
      "text/plain": "   pokedex_number        name german_name        japanese_name  generation  \\\n0               1   Bulbasaur     Bisasam  フシギダネ (Fushigidane)           1   \n1               2     Ivysaur   Bisaknosp   フシギソウ (Fushigisou)           1   \n2               3    Venusaur    Bisaflor  フシギバナ (Fushigibana)           1   \n3               4  Charmander    Glumanda      ヒトカゲ (Hitokage)           1   \n4               5  Charmeleon     Glutexo       リザード (Lizardo)           1   \n\n   status         species  type_number type_1  type_2  ...  against_flying  \\\n0  Normal    Seed Pokémon            2  Grass  Poison  ...             2.0   \n1  Normal    Seed Pokémon            2  Grass  Poison  ...             2.0   \n2  Normal    Seed Pokémon            2  Grass  Poison  ...             2.0   \n3  Normal  Lizard Pokémon            1   Fire    None  ...             1.0   \n4  Normal   Flame Pokémon            1   Fire    None  ...             1.0   \n\n   against_psychic  against_bug against_rock against_ghost against_dragon  \\\n0              2.0          1.0          1.0           1.0            1.0   \n1              2.0          1.0          1.0           1.0            1.0   \n2              2.0          1.0          1.0           1.0            1.0   \n3              1.0          0.5          2.0           1.0            1.0   \n4              1.0          0.5          2.0           1.0            1.0   \n\n   against_dark  against_steel  against_fairy  lowercase_name  \n0           1.0            1.0            0.5       bulbasaur  \n1           1.0            1.0            0.5         ivysaur  \n2           1.0            1.0            0.5        venusaur  \n3           1.0            0.5            0.5      charmander  \n4           1.0            0.5            0.5      charmeleon  \n\n[5 rows x 51 columns]",
      "text/html": "<div>\n<style scoped>\n    .dataframe tbody tr th:only-of-type {\n        vertical-align: middle;\n    }\n\n    .dataframe tbody tr th {\n        vertical-align: top;\n    }\n\n    .dataframe thead th {\n        text-align: right;\n    }\n</style>\n<table border=\"1\" class=\"dataframe\">\n  <thead>\n    <tr style=\"text-align: right;\">\n      <th></th>\n      <th>pokedex_number</th>\n      <th>name</th>\n      <th>german_name</th>\n      <th>japanese_name</th>\n      <th>generation</th>\n      <th>status</th>\n      <th>species</th>\n      <th>type_number</th>\n      <th>type_1</th>\n      <th>type_2</th>\n      <th>...</th>\n      <th>against_flying</th>\n      <th>against_psychic</th>\n      <th>against_bug</th>\n      <th>against_rock</th>\n      <th>against_ghost</th>\n      <th>against_dragon</th>\n      <th>against_dark</th>\n      <th>against_steel</th>\n      <th>against_fairy</th>\n      <th>lowercase_name</th>\n    </tr>\n  </thead>\n  <tbody>\n    <tr>\n      <th>0</th>\n      <td>1</td>\n      <td>Bulbasaur</td>\n      <td>Bisasam</td>\n      <td>フシギダネ (Fushigidane)</td>\n      <td>1</td>\n      <td>Normal</td>\n      <td>Seed Pokémon</td>\n      <td>2</td>\n      <td>Grass</td>\n      <td>Poison</td>\n      <td>...</td>\n      <td>2.0</td>\n      <td>2.0</td>\n      <td>1.0</td>\n      <td>1.0</td>\n      <td>1.0</td>\n      <td>1.0</td>\n      <td>1.0</td>\n      <td>1.0</td>\n      <td>0.5</td>\n      <td>bulbasaur</td>\n    </tr>\n    <tr>\n      <th>1</th>\n      <td>2</td>\n      <td>Ivysaur</td>\n      <td>Bisaknosp</td>\n      <td>フシギソウ (Fushigisou)</td>\n      <td>1</td>\n      <td>Normal</td>\n      <td>Seed Pokémon</td>\n      <td>2</td>\n      <td>Grass</td>\n      <td>Poison</td>\n      <td>...</td>\n      <td>2.0</td>\n      <td>2.0</td>\n      <td>1.0</td>\n      <td>1.0</td>\n      <td>1.0</td>\n      <td>1.0</td>\n      <td>1.0</td>\n      <td>1.0</td>\n      <td>0.5</td>\n      <td>ivysaur</td>\n    </tr>\n    <tr>\n      <th>2</th>\n      <td>3</td>\n      <td>Venusaur</td>\n      <td>Bisaflor</td>\n      <td>フシギバナ (Fushigibana)</td>\n      <td>1</td>\n      <td>Normal</td>\n      <td>Seed Pokémon</td>\n      <td>2</td>\n      <td>Grass</td>\n      <td>Poison</td>\n      <td>...</td>\n      <td>2.0</td>\n      <td>2.0</td>\n      <td>1.0</td>\n      <td>1.0</td>\n      <td>1.0</td>\n      <td>1.0</td>\n      <td>1.0</td>\n      <td>1.0</td>\n      <td>0.5</td>\n      <td>venusaur</td>\n    </tr>\n    <tr>\n      <th>3</th>\n      <td>4</td>\n      <td>Charmander</td>\n      <td>Glumanda</td>\n      <td>ヒトカゲ (Hitokage)</td>\n      <td>1</td>\n      <td>Normal</td>\n      <td>Lizard Pokémon</td>\n      <td>1</td>\n      <td>Fire</td>\n      <td>None</td>\n      <td>...</td>\n      <td>1.0</td>\n      <td>1.0</td>\n      <td>0.5</td>\n      <td>2.0</td>\n      <td>1.0</td>\n      <td>1.0</td>\n      <td>1.0</td>\n      <td>0.5</td>\n      <td>0.5</td>\n      <td>charmander</td>\n    </tr>\n    <tr>\n      <th>4</th>\n      <td>5</td>\n      <td>Charmeleon</td>\n      <td>Glutexo</td>\n      <td>リザード (Lizardo)</td>\n      <td>1</td>\n      <td>Normal</td>\n      <td>Flame Pokémon</td>\n      <td>1</td>\n      <td>Fire</td>\n      <td>None</td>\n      <td>...</td>\n      <td>1.0</td>\n      <td>1.0</td>\n      <td>0.5</td>\n      <td>2.0</td>\n      <td>1.0</td>\n      <td>1.0</td>\n      <td>1.0</td>\n      <td>0.5</td>\n      <td>0.5</td>\n      <td>charmeleon</td>\n    </tr>\n  </tbody>\n</table>\n<p>5 rows × 51 columns</p>\n</div>"
     },
     "execution_count": 35,
     "metadata": {},
     "output_type": "execute_result"
    }
   ],
   "source": [
    "pokedex_final.head()"
   ]
  },
  {
   "cell_type": "code",
   "execution_count": 36,
   "metadata": {},
   "outputs": [
    {
     "data": {
      "text/plain": "0         Normal\n1         Normal\n2         Normal\n3         Normal\n4         Normal\n         ...    \n146       Normal\n147       Normal\n148       Normal\n149    Legendary\n150     Mythical\nName: status, Length: 151, dtype: object"
     },
     "execution_count": 36,
     "metadata": {},
     "output_type": "execute_result"
    }
   ],
   "source": [
    "pokedex_final.status"
   ]
  },
  {
   "cell_type": "code",
   "execution_count": 37,
   "metadata": {},
   "outputs": [
    {
     "data": {
      "text/plain": "       index learn_by    move    name    type  category contest  pp power  \\\n0  bulbasaur    level  tackle  Tackle  Normal  Physical   Tough  35    40   \n1    ivysaur    level  tackle  Tackle  Normal  Physical   Tough  35    40   \n2   squirtle    level  tackle  Tackle  Normal  Physical   Tough  35    40   \n3   caterpie    level  tackle  Tackle  Normal  Physical   Tough  35    40   \n4     pidgey    level  tackle  Tackle  Normal  Physical   Tough  35    40   \n\n  accuracy  generation  \n0     None           1  \n1     None           1  \n2     None           1  \n3     None           1  \n4     None           1  ",
      "text/html": "<div>\n<style scoped>\n    .dataframe tbody tr th:only-of-type {\n        vertical-align: middle;\n    }\n\n    .dataframe tbody tr th {\n        vertical-align: top;\n    }\n\n    .dataframe thead th {\n        text-align: right;\n    }\n</style>\n<table border=\"1\" class=\"dataframe\">\n  <thead>\n    <tr style=\"text-align: right;\">\n      <th></th>\n      <th>index</th>\n      <th>learn_by</th>\n      <th>move</th>\n      <th>name</th>\n      <th>type</th>\n      <th>category</th>\n      <th>contest</th>\n      <th>pp</th>\n      <th>power</th>\n      <th>accuracy</th>\n      <th>generation</th>\n    </tr>\n  </thead>\n  <tbody>\n    <tr>\n      <th>0</th>\n      <td>bulbasaur</td>\n      <td>level</td>\n      <td>tackle</td>\n      <td>Tackle</td>\n      <td>Normal</td>\n      <td>Physical</td>\n      <td>Tough</td>\n      <td>35</td>\n      <td>40</td>\n      <td>None</td>\n      <td>1</td>\n    </tr>\n    <tr>\n      <th>1</th>\n      <td>ivysaur</td>\n      <td>level</td>\n      <td>tackle</td>\n      <td>Tackle</td>\n      <td>Normal</td>\n      <td>Physical</td>\n      <td>Tough</td>\n      <td>35</td>\n      <td>40</td>\n      <td>None</td>\n      <td>1</td>\n    </tr>\n    <tr>\n      <th>2</th>\n      <td>squirtle</td>\n      <td>level</td>\n      <td>tackle</td>\n      <td>Tackle</td>\n      <td>Normal</td>\n      <td>Physical</td>\n      <td>Tough</td>\n      <td>35</td>\n      <td>40</td>\n      <td>None</td>\n      <td>1</td>\n    </tr>\n    <tr>\n      <th>3</th>\n      <td>caterpie</td>\n      <td>level</td>\n      <td>tackle</td>\n      <td>Tackle</td>\n      <td>Normal</td>\n      <td>Physical</td>\n      <td>Tough</td>\n      <td>35</td>\n      <td>40</td>\n      <td>None</td>\n      <td>1</td>\n    </tr>\n    <tr>\n      <th>4</th>\n      <td>pidgey</td>\n      <td>level</td>\n      <td>tackle</td>\n      <td>Tackle</td>\n      <td>Normal</td>\n      <td>Physical</td>\n      <td>Tough</td>\n      <td>35</td>\n      <td>40</td>\n      <td>None</td>\n      <td>1</td>\n    </tr>\n  </tbody>\n</table>\n</div>"
     },
     "execution_count": 37,
     "metadata": {},
     "output_type": "execute_result"
    }
   ],
   "source": [
    "moves_final.head()"
   ]
  },
  {
   "cell_type": "code",
   "execution_count": 38,
   "metadata": {},
   "outputs": [],
   "source": [
    "moves_final['power'] = pd.to_numeric(moves_final[\"power\"], downcast=\"float\", errors = 'coerce')\n",
    "#average power of moves by each pokemon\n",
    "avg_power = pd.DataFrame(moves_final.groupby('index')['power'].mean()).reset_index()"
   ]
  },
  {
   "cell_type": "code",
   "execution_count": 39,
   "metadata": {},
   "outputs": [],
   "source": [
    "avg_power.loc[avg_power.power.isna(), 'power'] = 0"
   ]
  },
  {
   "cell_type": "code",
   "execution_count": 40,
   "metadata": {},
   "outputs": [
    {
     "name": "stderr",
     "output_type": "stream",
     "text": [
      "<ipython-input-40-0c99b8fd61a2>:2: FutureWarning: The default value of regex will change from True to False in a future version. In addition, single character regular expressions will*not* be treated as literal strings when regex=True.\n",
      "  pokedex_final['lowercase_name'] = pokedex_final['lowercase_name'].str.replace('.', '').str.replace(\"'\", '')\n"
     ]
    }
   ],
   "source": [
    "#pokemon names that cannot be matched: nidoranf and nidoranm, farfetch'd, mr.mime (need to remove ' and .)\n",
    "pokedex_final['lowercase_name'] = pokedex_final['lowercase_name'].str.replace('.', '').str.replace(\"'\", '')\n",
    "pokedex_final.loc[pokedex_final.pokedex_number == 29, 'lowercase_name'] = 'nidoranf'\n",
    "pokedex_final.loc[pokedex_final.pokedex_number == 32, 'lowercase_name'] = 'nidoranm'\n",
    "data = pd.merge(pokedex_final, avg_power, left_on = 'lowercase_name', right_on = 'index')"
   ]
  },
  {
   "cell_type": "code",
   "execution_count": 41,
   "metadata": {},
   "outputs": [],
   "source": [
    "#calculating damage constant for each pokemon in pokedex \n",
    "level = 60\n",
    "ev = 100\n",
    "iv = 15 \n",
    "data['calculated_hp'] = (2*data.hp + iv + ev/4)*level/100 + level + 10\n",
    "data['calculated_attack'] = (2*data.attack + iv + ev/4)*level/100 + 5 \n",
    "data['calculated_defense'] = (2*data.defense + iv + ev/4)*level/100 + 5\n",
    "data['calculated_speed'] = (2*data.speed + iv + ev/4)*level/100 + 5"
   ]
  },
  {
   "cell_type": "code",
   "execution_count": 42,
   "metadata": {},
   "outputs": [],
   "source": [
    "#create 151 by 151 matrix for modifier for damage i inflicts on j (j's against_typeofpokemoni)\n",
    "data = data.rename({'against_fight': 'against_fighting'}, axis = 1)\n",
    "\n",
    "pokemon_types = [\"against_\" + x.lower() for x in data.type_1]\n",
    "modifier_type1 = []\n",
    "for pokemon_i in range(len(data)):\n",
    "    row_i = [data.iloc[pokemon_j][pokemon_types[pokemon_i]] for pokemon_j in range(len(data))]\n",
    "    modifier_type1.append(row_i)\n",
    "modifier_type1 = pd.DataFrame(modifier_type1)\n",
    "\n",
    "pokemon_types2 = [\"against_\" + x.lower() if isinstance(x, str) else 'NA' for x in data.type_2]\n",
    "modifier_type2 = []\n",
    "for pokemon_i in range(len(data)):\n",
    "    row_i = [data.iloc[pokemon_j][pokemon_types2[pokemon_i]] if pokemon_types2[pokemon_i] != 'NA' else np.nan for pokemon_j in range(len(data))]\n",
    "    modifier_type2.append(row_i)\n",
    "modifier_type2 = pd.DataFrame(modifier_type2)\n",
    "\n",
    "#make more effective \"type\"\n",
    "modifier = pd.concat((modifier_type1, modifier_type2)).groupby(level = 0).max()"
   ]
  },
  {
   "cell_type": "code",
   "execution_count": 43,
   "metadata": {},
   "outputs": [],
   "source": [
    "#create 151 by 151 matrix for damage i inflicts on j\n",
    "d = pd.DataFrame(0, index=np.arange(len(data)), columns=np.arange(len(data)))\n",
    "for i in range(len(data)):\n",
    "    for j in range(len(data)):\n",
    "        d.iloc[i,j] = ((2*level/5 * data.power[i] * data.calculated_attack[i]/data.calculated_defense[j])/50 + 2)*modifier.iloc[i,j]"
   ]
  },
  {
   "cell_type": "code",
   "execution_count": 44,
   "metadata": {},
   "outputs": [],
   "source": [
    "#create 151 by 151 matrix for # turns i needs to defeat j\n",
    "x = pd.DataFrame(0, index=np.arange(len(data)), columns=np.arange(len(data)))\n",
    "for i in range(len(data)):\n",
    "    for j in range(len(data)):\n",
    "        if d.iloc[i,j] == 0:\n",
    "            x.iloc[i,j] = 1000\n",
    "        else: x.iloc[i,j] = data.calculated_hp[j] / d.iloc[i,j]"
   ]
  },
  {
   "cell_type": "code",
   "execution_count": 72,
   "outputs": [
    {
     "data": {
      "text/plain": "58.0"
     },
     "execution_count": 72,
     "metadata": {},
     "output_type": "execute_result"
    }
   ],
   "source": [
    "# type_1, type_2\n",
    "data.columns\n",
    "data[data.pokedex_number == 5].hp.iloc[0]"
   ],
   "metadata": {
    "collapsed": false,
    "pycharm": {
     "name": "#%%\n"
    }
   }
  },
  {
   "cell_type": "code",
   "execution_count": 45,
   "metadata": {},
   "outputs": [],
   "source": [
    "#create 151 by 151 matrix for # turns j needs to defeat i\n",
    "y = pd.DataFrame(0, index=np.arange(len(data)), columns=np.arange(len(data)))\n",
    "for i in range(len(data)):\n",
    "    for j in range(len(data)):\n",
    "        if d.iloc[j,i] == 0:\n",
    "            y.iloc[i,j] = 1000\n",
    "        else: y.iloc[i,j] = np.ceil(data.calculated_hp[i] / d.iloc[j,i])"
   ]
  },
  {
   "cell_type": "code",
   "execution_count": 77,
   "outputs": [
    {
     "data": {
      "text/plain": "          0         1         2          3          4         5          6    \\\n0    4.109126  3.787488  2.694172   1.891656   1.609439  1.263289   8.050430   \n1    5.433040  5.011899  3.575147   2.503213   2.132840  1.677098  10.646474   \n2    7.532229  6.956348  4.981699   3.474427   2.966346  2.338325  14.764415   \n3    3.605064  3.321692  2.359964   6.636028   5.642451  2.212748   1.765558   \n4    5.066372  4.672288  3.329574   9.334336   7.949154  3.123322   2.481801   \n..        ...       ...       ...        ...        ...       ...        ...   \n146  3.769943  3.474026  2.469195   6.940369   5.902464  2.315310   7.385457   \n147  5.589480  5.156812  3.679977  10.302376   8.779842  3.452758  10.953362   \n148  8.878712  8.205406  5.889793  16.393278  14.012660  5.531114  17.406796   \n149  9.293755  8.586579  6.157489   8.577374   7.328160  5.781648   9.109585   \n150  9.707351  8.973693  6.447410   8.964137   7.666129  6.055667   9.516362   \n\n           7          8          9    ...       141       142       143  \\\n0     6.438573   4.825099   9.127845  ...  1.076658  2.035719  1.251621   \n1     8.532435   6.407505  11.915729  ...  1.430704  2.705959  1.661707   \n2    11.866862   8.937465  16.233059  ...  1.997482  3.779545  2.317061   \n3     1.410793   1.056307  16.106273  ...  0.942533  1.781887  2.192253   \n4     1.987540   1.491461  22.323498  ...  1.331772  2.518574  3.094592   \n..         ...        ...        ...  ...       ...       ...       ...   \n146   5.903216   4.421258   8.405658  ...  1.972714  1.864817  1.146942   \n147   8.780948   6.596063  12.236936  ...  2.945892  2.785972  1.710550   \n148  14.014394  10.572995  37.884746  ...  2.364329  4.474806  1.370272   \n149   7.329070   5.525393   9.955453  ...  4.941203  4.675450  5.729239   \n150   7.667075   5.788436  10.312419  ...  5.178821  4.901316  6.001022   \n\n          144       145       146       147       148       149        150  \n0    1.195129  1.038754  2.987188  2.426764  0.846886  0.973904   1.075447  \n1    1.587166  1.380606  3.960996  3.222511  1.126705  1.294845   1.429104  \n2    2.214027  1.928066  5.513529  4.494667  1.575681  1.809149   1.995266  \n3    2.093043  1.818550  2.617484  2.125096  1.482013  1.704770   1.882942  \n4    2.955471  2.570098  3.689907  3.000428  2.096707  2.410161   2.660560  \n..        ...       ...       ...       ...       ...       ...        ...  \n146  2.190167  1.903158  1.369168  1.111839  0.775592  1.784170   1.970492  \n147  3.267772  2.842814  2.038353  1.658662  1.160166  2.666350   2.942600  \n148  5.238624  4.565073  3.257254  2.658508  1.866909  4.284709   4.723436  \n149  5.475248  4.769943  6.812359  5.557361  3.900042  8.952956   9.871472  \n150  5.736130  5.000000  7.129434  5.821779  4.090952  9.386936  10.346226  \n\n[151 rows x 151 columns]",
      "text/html": "<div>\n<style scoped>\n    .dataframe tbody tr th:only-of-type {\n        vertical-align: middle;\n    }\n\n    .dataframe tbody tr th {\n        vertical-align: top;\n    }\n\n    .dataframe thead th {\n        text-align: right;\n    }\n</style>\n<table border=\"1\" class=\"dataframe\">\n  <thead>\n    <tr style=\"text-align: right;\">\n      <th></th>\n      <th>0</th>\n      <th>1</th>\n      <th>2</th>\n      <th>3</th>\n      <th>4</th>\n      <th>5</th>\n      <th>6</th>\n      <th>7</th>\n      <th>8</th>\n      <th>9</th>\n      <th>...</th>\n      <th>141</th>\n      <th>142</th>\n      <th>143</th>\n      <th>144</th>\n      <th>145</th>\n      <th>146</th>\n      <th>147</th>\n      <th>148</th>\n      <th>149</th>\n      <th>150</th>\n    </tr>\n  </thead>\n  <tbody>\n    <tr>\n      <th>0</th>\n      <td>4.109126</td>\n      <td>3.787488</td>\n      <td>2.694172</td>\n      <td>1.891656</td>\n      <td>1.609439</td>\n      <td>1.263289</td>\n      <td>8.050430</td>\n      <td>6.438573</td>\n      <td>4.825099</td>\n      <td>9.127845</td>\n      <td>...</td>\n      <td>1.076658</td>\n      <td>2.035719</td>\n      <td>1.251621</td>\n      <td>1.195129</td>\n      <td>1.038754</td>\n      <td>2.987188</td>\n      <td>2.426764</td>\n      <td>0.846886</td>\n      <td>0.973904</td>\n      <td>1.075447</td>\n    </tr>\n    <tr>\n      <th>1</th>\n      <td>5.433040</td>\n      <td>5.011899</td>\n      <td>3.575147</td>\n      <td>2.503213</td>\n      <td>2.132840</td>\n      <td>1.677098</td>\n      <td>10.646474</td>\n      <td>8.532435</td>\n      <td>6.407505</td>\n      <td>11.915729</td>\n      <td>...</td>\n      <td>1.430704</td>\n      <td>2.705959</td>\n      <td>1.661707</td>\n      <td>1.587166</td>\n      <td>1.380606</td>\n      <td>3.960996</td>\n      <td>3.222511</td>\n      <td>1.126705</td>\n      <td>1.294845</td>\n      <td>1.429104</td>\n    </tr>\n    <tr>\n      <th>2</th>\n      <td>7.532229</td>\n      <td>6.956348</td>\n      <td>4.981699</td>\n      <td>3.474427</td>\n      <td>2.966346</td>\n      <td>2.338325</td>\n      <td>14.764415</td>\n      <td>11.866862</td>\n      <td>8.937465</td>\n      <td>16.233059</td>\n      <td>...</td>\n      <td>1.997482</td>\n      <td>3.779545</td>\n      <td>2.317061</td>\n      <td>2.214027</td>\n      <td>1.928066</td>\n      <td>5.513529</td>\n      <td>4.494667</td>\n      <td>1.575681</td>\n      <td>1.809149</td>\n      <td>1.995266</td>\n    </tr>\n    <tr>\n      <th>3</th>\n      <td>3.605064</td>\n      <td>3.321692</td>\n      <td>2.359964</td>\n      <td>6.636028</td>\n      <td>5.642451</td>\n      <td>2.212748</td>\n      <td>1.765558</td>\n      <td>1.410793</td>\n      <td>1.056307</td>\n      <td>16.106273</td>\n      <td>...</td>\n      <td>0.942533</td>\n      <td>1.781887</td>\n      <td>2.192253</td>\n      <td>2.093043</td>\n      <td>1.818550</td>\n      <td>2.617484</td>\n      <td>2.125096</td>\n      <td>1.482013</td>\n      <td>1.704770</td>\n      <td>1.882942</td>\n    </tr>\n    <tr>\n      <th>4</th>\n      <td>5.066372</td>\n      <td>4.672288</td>\n      <td>3.329574</td>\n      <td>9.334336</td>\n      <td>7.949154</td>\n      <td>3.123322</td>\n      <td>2.481801</td>\n      <td>1.987540</td>\n      <td>1.491461</td>\n      <td>22.323498</td>\n      <td>...</td>\n      <td>1.331772</td>\n      <td>2.518574</td>\n      <td>3.094592</td>\n      <td>2.955471</td>\n      <td>2.570098</td>\n      <td>3.689907</td>\n      <td>3.000428</td>\n      <td>2.096707</td>\n      <td>2.410161</td>\n      <td>2.660560</td>\n    </tr>\n    <tr>\n      <th>...</th>\n      <td>...</td>\n      <td>...</td>\n      <td>...</td>\n      <td>...</td>\n      <td>...</td>\n      <td>...</td>\n      <td>...</td>\n      <td>...</td>\n      <td>...</td>\n      <td>...</td>\n      <td>...</td>\n      <td>...</td>\n      <td>...</td>\n      <td>...</td>\n      <td>...</td>\n      <td>...</td>\n      <td>...</td>\n      <td>...</td>\n      <td>...</td>\n      <td>...</td>\n      <td>...</td>\n    </tr>\n    <tr>\n      <th>146</th>\n      <td>3.769943</td>\n      <td>3.474026</td>\n      <td>2.469195</td>\n      <td>6.940369</td>\n      <td>5.902464</td>\n      <td>2.315310</td>\n      <td>7.385457</td>\n      <td>5.903216</td>\n      <td>4.421258</td>\n      <td>8.405658</td>\n      <td>...</td>\n      <td>1.972714</td>\n      <td>1.864817</td>\n      <td>1.146942</td>\n      <td>2.190167</td>\n      <td>1.903158</td>\n      <td>1.369168</td>\n      <td>1.111839</td>\n      <td>0.775592</td>\n      <td>1.784170</td>\n      <td>1.970492</td>\n    </tr>\n    <tr>\n      <th>147</th>\n      <td>5.589480</td>\n      <td>5.156812</td>\n      <td>3.679977</td>\n      <td>10.302376</td>\n      <td>8.779842</td>\n      <td>3.452758</td>\n      <td>10.953362</td>\n      <td>8.780948</td>\n      <td>6.596063</td>\n      <td>12.236936</td>\n      <td>...</td>\n      <td>2.945892</td>\n      <td>2.785972</td>\n      <td>1.710550</td>\n      <td>3.267772</td>\n      <td>2.842814</td>\n      <td>2.038353</td>\n      <td>1.658662</td>\n      <td>1.160166</td>\n      <td>2.666350</td>\n      <td>2.942600</td>\n    </tr>\n    <tr>\n      <th>148</th>\n      <td>8.878712</td>\n      <td>8.205406</td>\n      <td>5.889793</td>\n      <td>16.393278</td>\n      <td>14.012660</td>\n      <td>5.531114</td>\n      <td>17.406796</td>\n      <td>14.014394</td>\n      <td>10.572995</td>\n      <td>37.884746</td>\n      <td>...</td>\n      <td>2.364329</td>\n      <td>4.474806</td>\n      <td>1.370272</td>\n      <td>5.238624</td>\n      <td>4.565073</td>\n      <td>3.257254</td>\n      <td>2.658508</td>\n      <td>1.866909</td>\n      <td>4.284709</td>\n      <td>4.723436</td>\n    </tr>\n    <tr>\n      <th>149</th>\n      <td>9.293755</td>\n      <td>8.586579</td>\n      <td>6.157489</td>\n      <td>8.577374</td>\n      <td>7.328160</td>\n      <td>5.781648</td>\n      <td>9.109585</td>\n      <td>7.329070</td>\n      <td>5.525393</td>\n      <td>9.955453</td>\n      <td>...</td>\n      <td>4.941203</td>\n      <td>4.675450</td>\n      <td>5.729239</td>\n      <td>5.475248</td>\n      <td>4.769943</td>\n      <td>6.812359</td>\n      <td>5.557361</td>\n      <td>3.900042</td>\n      <td>8.952956</td>\n      <td>9.871472</td>\n    </tr>\n    <tr>\n      <th>150</th>\n      <td>9.707351</td>\n      <td>8.973693</td>\n      <td>6.447410</td>\n      <td>8.964137</td>\n      <td>7.666129</td>\n      <td>6.055667</td>\n      <td>9.516362</td>\n      <td>7.667075</td>\n      <td>5.788436</td>\n      <td>10.312419</td>\n      <td>...</td>\n      <td>5.178821</td>\n      <td>4.901316</td>\n      <td>6.001022</td>\n      <td>5.736130</td>\n      <td>5.000000</td>\n      <td>7.129434</td>\n      <td>5.821779</td>\n      <td>4.090952</td>\n      <td>9.386936</td>\n      <td>10.346226</td>\n    </tr>\n  </tbody>\n</table>\n<p>151 rows × 151 columns</p>\n</div>"
     },
     "execution_count": 77,
     "metadata": {},
     "output_type": "execute_result"
    }
   ],
   "source": [
    "x.transpose()"
   ],
   "metadata": {
    "collapsed": false,
    "pycharm": {
     "name": "#%%\n"
    }
   }
  },
  {
   "cell_type": "code",
   "execution_count": 80,
   "outputs": [
    {
     "data": {
      "text/plain": "0"
     },
     "execution_count": 80,
     "metadata": {},
     "output_type": "execute_result"
    }
   ],
   "source": [],
   "metadata": {
    "collapsed": false,
    "pycharm": {
     "name": "#%%\n"
    }
   }
  },
  {
   "cell_type": "code",
   "execution_count": 47,
   "metadata": {},
   "outputs": [],
   "source": [
    "#pokedex number of opponents\n",
    "opponents = [18,65,112,103,130,6]"
   ]
  },
  {
   "cell_type": "code",
   "execution_count": 53,
   "metadata": {},
   "outputs": [
    {
     "name": "stdout",
     "output_type": "stream",
     "text": [
      "Gurobi Optimizer version 9.1.1 build v9.1.1rc0 (mac64)\n",
      "Thread count: 6 physical cores, 12 logical processors, using up to 12 threads\n",
      "Optimize a model with 1475 rows, 906 columns and 3037 nonzeros\n",
      "Model fingerprint: 0x9256fb8c\n",
      "Coefficient statistics:\n",
      "  Matrix range     [1e+00, 1e+03]\n",
      "  Objective range  [8e-01, 1e+03]\n",
      "  Bounds range     [0e+00, 0e+00]\n",
      "  RHS range        [1e+00, 1e+00]\n",
      "Presolve removed 1469 rows and 896 columns\n",
      "Presolve time: 0.00s\n",
      "Presolved: 6 rows, 10 columns, 18 nonzeros\n",
      "\n",
      "Iteration    Objective       Primal Inf.    Dual Inf.      Time\n",
      "       0    6.8344195e+00   1.000000e+00   0.000000e+00      0s\n",
      "       1    6.8425759e+00   0.000000e+00   0.000000e+00      0s\n",
      "\n",
      "Solved in 1 iterations and 0.01 seconds\n",
      "Optimal objective  6.842575863e+00\n",
      "\n",
      "Optimal: 6.84258\n",
      "\n",
      "Optimal Assignment:\n",
      "Pokemon Golem should battle pokemon Pidgeot\n",
      "76\n",
      "Pokemon Muk should battle pokemon Alakazam\n",
      "89\n",
      "Pokemon Rhydon should battle pokemon Charizard\n",
      "112\n",
      "Pokemon Pinsir should battle pokemon Exeggutor\n",
      "127\n",
      "Pokemon Gyarados should battle pokemon Rhydon\n",
      "130\n",
      "Pokemon Zapdos should battle pokemon Gyarados\n",
      "145\n"
     ]
    }
   ],
   "source": [
    "from gurobipy import *\n",
    "\n",
    "no_pokemons = len(data)\n",
    "no_opponents = len(opponents)\n",
    "#preparing an optimization model\n",
    "mod = Model(\"pokemon\")\n",
    "\n",
    "#declaring variables\n",
    "c = mod.addVars(no_pokemons, no_opponents, name='c')\n",
    "\n",
    "#setting the objective such that it helps us end the game as fast as possible\n",
    "#but if want to make it safer, we should maximise the turn difference:\n",
    "#mod.setObjective(sum(c[i,j]*t.iloc[i,j] for i in range(no_pokemons) for j in range(no_opponents)), GRB.MAXIMIZE)\n",
    "mod.setObjective(sum(c[i,j]*x.iloc[i,opponents[j]-1] for i in range(no_pokemons) for j in range(no_opponents)), GRB.MINIMIZE)\n",
    "\n",
    "#adding constraints\n",
    "#comment next line out if want to remove constraint of only one of each pokemon in pokedex\n",
    "mod.addConstrs(sum(c[i,j] for j in range(no_opponents)) <= 1 for i in range(no_pokemons))\n",
    "mod.addConstrs(sum(c[i,j] for i in range(no_pokemons)) == 1 for j in range(no_opponents))\n",
    "#chosen pokemons must be able to defeat opponent (no negative turn difference)\n",
    "mod.addConstrs(c[i,j]*t.iloc[i,opponents[j]-1] >= 0 for i in range(no_pokemons) for j in range(no_opponents))  \n",
    "\n",
    "#for pokemons who are slower and turn difference < 1, they would be first defeated by opponent \n",
    "mod.addConstrs(c[i,j] == 0 for i in range(no_pokemons) for j in range(no_opponents) if (data.calculated_speed[j] >= data.calculated_speed[i]) & (t.iloc[i,opponents[j]-1] < 1))  \n",
    "#solving the optimization problem\n",
    "mod.optimize()\n",
    "\n",
    "#print optimal value\n",
    "print('\\nOptimal: %g\\n' % mod.objVal)\n",
    "\n",
    "#print optimal solutions\n",
    "print('Optimal Assignment:')\n",
    "for index, v in c.items():\n",
    "    if v.getAttr(\"x\") == 1:\n",
    "        print(\"Pokemon {i} should battle pokemon {j}\".format(i = data.name[index[0]], j = data.name[opponents[index[1]]-1]))"
   ]
  },
  {
   "cell_type": "markdown",
   "metadata": {},
   "source": [
    "## TRY 2 can't work :("
   ]
  },
  {
   "cell_type": "code",
   "execution_count": null,
   "metadata": {},
   "outputs": [],
   "source": [
    "#calculated hp for pokemon i\n",
    "def hp(i, level, iv, ev): \n",
    "    return((2*data.hp[i] + iv + ev/4)*level/100 + level + 10)\n",
    "def attack(i, level, iv, ev):\n",
    "    return((2*data.attack[i] + iv + ev/4)*level/100 + 5)\n",
    "def defense(i, level, iv, ev):\n",
    "    return((2*data.defense[i] + iv + ev/4)*level/100 + 5)\n",
    "def speed(i, level, iv, ev):\n",
    "    return((2*data.speed[i] + iv + ev/4)*level/100 + 5)"
   ]
  },
  {
   "cell_type": "code",
   "execution_count": 21,
   "metadata": {},
   "outputs": [],
   "source": [
    "#create 151 by 151 matrix for modifier for damage i inflicts on j (j's against_typeofpokemoni)\n",
    "pokemon_types = [\"against_\" + x.lower() for x in data.type_1]\n",
    "modifier_type1 = []\n",
    "for pokemon_i in range(len(data)):\n",
    "    row_i = [data.iloc[pokemon_j][pokemon_types[pokemon_i]] for pokemon_j in range(len(data))]\n",
    "    modifier_type1.append(row_i)\n",
    "modifier_type1 = pd.DataFrame(modifier_type1)\n",
    "\n",
    "pokemon_types2 = [\"against_\" + x.lower() if isinstance(x, str) else 'NA' for x in data.type_2]\n",
    "modifier_type2 = []\n",
    "for pokemon_i in range(len(data)):\n",
    "    row_i = [data.iloc[pokemon_j][pokemon_types2[pokemon_i]] if pokemon_types2[pokemon_i] != 'NA' else np.nan for pokemon_j in range(len(data))]\n",
    "    modifier_type2.append(row_i)\n",
    "modifier_type2 = pd.DataFrame(modifier_type2)\n",
    "\n",
    "modifier = pd.concat((modifier_type1, modifier_type2)).groupby(level = 0).max()"
   ]
  },
  {
   "cell_type": "code",
   "execution_count": 22,
   "metadata": {},
   "outputs": [],
   "source": [
    "def damage(i,j,level,iv,ev):\n",
    "    return(((2*level/5 * data.power[i] * attack(i,level,iv,ev)/defense(j,level,iv,ev))/50 + 2)*modifier.iloc[i,j])"
   ]
  },
  {
   "cell_type": "code",
   "execution_count": 23,
   "metadata": {},
   "outputs": [],
   "source": [
    "#pokedex number of opponents\n",
    "opponents = [18,65,112,103,130,6]"
   ]
  },
  {
   "cell_type": "code",
   "execution_count": 24,
   "metadata": {},
   "outputs": [],
   "source": [
    "ev = 100\n",
    "iv = 15"
   ]
  },
  {
   "cell_type": "code",
   "execution_count": 25,
   "metadata": {},
   "outputs": [
    {
     "data": {
      "text/html": [
       "<div>\n",
       "<style scoped>\n",
       "    .dataframe tbody tr th:only-of-type {\n",
       "        vertical-align: middle;\n",
       "    }\n",
       "\n",
       "    .dataframe tbody tr th {\n",
       "        vertical-align: top;\n",
       "    }\n",
       "\n",
       "    .dataframe thead th {\n",
       "        text-align: right;\n",
       "    }\n",
       "</style>\n",
       "<table border=\"1\" class=\"dataframe\">\n",
       "  <thead>\n",
       "    <tr style=\"text-align: right;\">\n",
       "      <th></th>\n",
       "      <th>0</th>\n",
       "      <th>1</th>\n",
       "      <th>2</th>\n",
       "      <th>3</th>\n",
       "      <th>4</th>\n",
       "      <th>5</th>\n",
       "      <th>6</th>\n",
       "      <th>7</th>\n",
       "      <th>8</th>\n",
       "      <th>9</th>\n",
       "      <th>...</th>\n",
       "      <th>141</th>\n",
       "      <th>142</th>\n",
       "      <th>143</th>\n",
       "      <th>144</th>\n",
       "      <th>145</th>\n",
       "      <th>146</th>\n",
       "      <th>147</th>\n",
       "      <th>148</th>\n",
       "      <th>149</th>\n",
       "      <th>150</th>\n",
       "    </tr>\n",
       "  </thead>\n",
       "  <tbody>\n",
       "    <tr>\n",
       "      <th>0</th>\n",
       "      <td>1.0</td>\n",
       "      <td>1.0</td>\n",
       "      <td>1.0</td>\n",
       "      <td>1.0</td>\n",
       "      <td>1.0</td>\n",
       "      <td>1.0</td>\n",
       "      <td>2.0</td>\n",
       "      <td>2.0</td>\n",
       "      <td>2.0</td>\n",
       "      <td>1.0</td>\n",
       "      <td>...</td>\n",
       "      <td>1.0</td>\n",
       "      <td>1.0</td>\n",
       "      <td>1.0</td>\n",
       "      <td>1.0</td>\n",
       "      <td>1.0</td>\n",
       "      <td>1.0</td>\n",
       "      <td>1.0</td>\n",
       "      <td>1.0</td>\n",
       "      <td>1.0</td>\n",
       "      <td>1.0</td>\n",
       "    </tr>\n",
       "    <tr>\n",
       "      <th>1</th>\n",
       "      <td>1.0</td>\n",
       "      <td>1.0</td>\n",
       "      <td>1.0</td>\n",
       "      <td>1.0</td>\n",
       "      <td>1.0</td>\n",
       "      <td>1.0</td>\n",
       "      <td>2.0</td>\n",
       "      <td>2.0</td>\n",
       "      <td>2.0</td>\n",
       "      <td>1.0</td>\n",
       "      <td>...</td>\n",
       "      <td>1.0</td>\n",
       "      <td>1.0</td>\n",
       "      <td>1.0</td>\n",
       "      <td>1.0</td>\n",
       "      <td>1.0</td>\n",
       "      <td>1.0</td>\n",
       "      <td>1.0</td>\n",
       "      <td>1.0</td>\n",
       "      <td>1.0</td>\n",
       "      <td>1.0</td>\n",
       "    </tr>\n",
       "    <tr>\n",
       "      <th>2</th>\n",
       "      <td>1.0</td>\n",
       "      <td>1.0</td>\n",
       "      <td>1.0</td>\n",
       "      <td>1.0</td>\n",
       "      <td>1.0</td>\n",
       "      <td>1.0</td>\n",
       "      <td>2.0</td>\n",
       "      <td>2.0</td>\n",
       "      <td>2.0</td>\n",
       "      <td>1.0</td>\n",
       "      <td>...</td>\n",
       "      <td>1.0</td>\n",
       "      <td>1.0</td>\n",
       "      <td>1.0</td>\n",
       "      <td>1.0</td>\n",
       "      <td>1.0</td>\n",
       "      <td>1.0</td>\n",
       "      <td>1.0</td>\n",
       "      <td>1.0</td>\n",
       "      <td>1.0</td>\n",
       "      <td>1.0</td>\n",
       "    </tr>\n",
       "    <tr>\n",
       "      <th>3</th>\n",
       "      <td>2.0</td>\n",
       "      <td>2.0</td>\n",
       "      <td>2.0</td>\n",
       "      <td>0.5</td>\n",
       "      <td>0.5</td>\n",
       "      <td>0.5</td>\n",
       "      <td>0.5</td>\n",
       "      <td>0.5</td>\n",
       "      <td>0.5</td>\n",
       "      <td>2.0</td>\n",
       "      <td>...</td>\n",
       "      <td>0.5</td>\n",
       "      <td>1.0</td>\n",
       "      <td>2.0</td>\n",
       "      <td>1.0</td>\n",
       "      <td>0.5</td>\n",
       "      <td>0.5</td>\n",
       "      <td>0.5</td>\n",
       "      <td>0.5</td>\n",
       "      <td>1.0</td>\n",
       "      <td>1.0</td>\n",
       "    </tr>\n",
       "    <tr>\n",
       "      <th>4</th>\n",
       "      <td>2.0</td>\n",
       "      <td>2.0</td>\n",
       "      <td>2.0</td>\n",
       "      <td>0.5</td>\n",
       "      <td>0.5</td>\n",
       "      <td>0.5</td>\n",
       "      <td>0.5</td>\n",
       "      <td>0.5</td>\n",
       "      <td>0.5</td>\n",
       "      <td>2.0</td>\n",
       "      <td>...</td>\n",
       "      <td>0.5</td>\n",
       "      <td>1.0</td>\n",
       "      <td>2.0</td>\n",
       "      <td>1.0</td>\n",
       "      <td>0.5</td>\n",
       "      <td>0.5</td>\n",
       "      <td>0.5</td>\n",
       "      <td>0.5</td>\n",
       "      <td>1.0</td>\n",
       "      <td>1.0</td>\n",
       "    </tr>\n",
       "    <tr>\n",
       "      <th>...</th>\n",
       "      <td>...</td>\n",
       "      <td>...</td>\n",
       "      <td>...</td>\n",
       "      <td>...</td>\n",
       "      <td>...</td>\n",
       "      <td>...</td>\n",
       "      <td>...</td>\n",
       "      <td>...</td>\n",
       "      <td>...</td>\n",
       "      <td>...</td>\n",
       "      <td>...</td>\n",
       "      <td>...</td>\n",
       "      <td>...</td>\n",
       "      <td>...</td>\n",
       "      <td>...</td>\n",
       "      <td>...</td>\n",
       "      <td>...</td>\n",
       "      <td>...</td>\n",
       "      <td>...</td>\n",
       "      <td>...</td>\n",
       "      <td>...</td>\n",
       "    </tr>\n",
       "    <tr>\n",
       "      <th>146</th>\n",
       "      <td>1.0</td>\n",
       "      <td>1.0</td>\n",
       "      <td>1.0</td>\n",
       "      <td>1.0</td>\n",
       "      <td>1.0</td>\n",
       "      <td>1.0</td>\n",
       "      <td>1.0</td>\n",
       "      <td>1.0</td>\n",
       "      <td>1.0</td>\n",
       "      <td>1.0</td>\n",
       "      <td>...</td>\n",
       "      <td>1.0</td>\n",
       "      <td>1.0</td>\n",
       "      <td>1.0</td>\n",
       "      <td>1.0</td>\n",
       "      <td>1.0</td>\n",
       "      <td>2.0</td>\n",
       "      <td>2.0</td>\n",
       "      <td>2.0</td>\n",
       "      <td>1.0</td>\n",
       "      <td>1.0</td>\n",
       "    </tr>\n",
       "    <tr>\n",
       "      <th>147</th>\n",
       "      <td>1.0</td>\n",
       "      <td>1.0</td>\n",
       "      <td>1.0</td>\n",
       "      <td>1.0</td>\n",
       "      <td>1.0</td>\n",
       "      <td>1.0</td>\n",
       "      <td>1.0</td>\n",
       "      <td>1.0</td>\n",
       "      <td>1.0</td>\n",
       "      <td>1.0</td>\n",
       "      <td>...</td>\n",
       "      <td>1.0</td>\n",
       "      <td>1.0</td>\n",
       "      <td>1.0</td>\n",
       "      <td>1.0</td>\n",
       "      <td>1.0</td>\n",
       "      <td>2.0</td>\n",
       "      <td>2.0</td>\n",
       "      <td>2.0</td>\n",
       "      <td>1.0</td>\n",
       "      <td>1.0</td>\n",
       "    </tr>\n",
       "    <tr>\n",
       "      <th>148</th>\n",
       "      <td>2.0</td>\n",
       "      <td>2.0</td>\n",
       "      <td>2.0</td>\n",
       "      <td>1.0</td>\n",
       "      <td>1.0</td>\n",
       "      <td>1.0</td>\n",
       "      <td>1.0</td>\n",
       "      <td>1.0</td>\n",
       "      <td>1.0</td>\n",
       "      <td>2.0</td>\n",
       "      <td>...</td>\n",
       "      <td>1.0</td>\n",
       "      <td>1.0</td>\n",
       "      <td>1.0</td>\n",
       "      <td>1.0</td>\n",
       "      <td>1.0</td>\n",
       "      <td>2.0</td>\n",
       "      <td>2.0</td>\n",
       "      <td>2.0</td>\n",
       "      <td>1.0</td>\n",
       "      <td>1.0</td>\n",
       "    </tr>\n",
       "    <tr>\n",
       "      <th>149</th>\n",
       "      <td>2.0</td>\n",
       "      <td>2.0</td>\n",
       "      <td>2.0</td>\n",
       "      <td>1.0</td>\n",
       "      <td>1.0</td>\n",
       "      <td>1.0</td>\n",
       "      <td>1.0</td>\n",
       "      <td>1.0</td>\n",
       "      <td>1.0</td>\n",
       "      <td>1.0</td>\n",
       "      <td>...</td>\n",
       "      <td>1.0</td>\n",
       "      <td>2.0</td>\n",
       "      <td>1.0</td>\n",
       "      <td>1.0</td>\n",
       "      <td>1.0</td>\n",
       "      <td>1.0</td>\n",
       "      <td>1.0</td>\n",
       "      <td>1.0</td>\n",
       "      <td>0.5</td>\n",
       "      <td>0.5</td>\n",
       "    </tr>\n",
       "    <tr>\n",
       "      <th>150</th>\n",
       "      <td>2.0</td>\n",
       "      <td>2.0</td>\n",
       "      <td>2.0</td>\n",
       "      <td>1.0</td>\n",
       "      <td>1.0</td>\n",
       "      <td>1.0</td>\n",
       "      <td>1.0</td>\n",
       "      <td>1.0</td>\n",
       "      <td>1.0</td>\n",
       "      <td>1.0</td>\n",
       "      <td>...</td>\n",
       "      <td>1.0</td>\n",
       "      <td>1.0</td>\n",
       "      <td>1.0</td>\n",
       "      <td>1.0</td>\n",
       "      <td>1.0</td>\n",
       "      <td>1.0</td>\n",
       "      <td>1.0</td>\n",
       "      <td>1.0</td>\n",
       "      <td>0.5</td>\n",
       "      <td>0.5</td>\n",
       "    </tr>\n",
       "  </tbody>\n",
       "</table>\n",
       "<p>151 rows × 151 columns</p>\n",
       "</div>"
      ],
      "text/plain": [
       "     0    1    2    3    4    5    6    7    8    9    ...  141  142  143  \\\n",
       "0    1.0  1.0  1.0  1.0  1.0  1.0  2.0  2.0  2.0  1.0  ...  1.0  1.0  1.0   \n",
       "1    1.0  1.0  1.0  1.0  1.0  1.0  2.0  2.0  2.0  1.0  ...  1.0  1.0  1.0   \n",
       "2    1.0  1.0  1.0  1.0  1.0  1.0  2.0  2.0  2.0  1.0  ...  1.0  1.0  1.0   \n",
       "3    2.0  2.0  2.0  0.5  0.5  0.5  0.5  0.5  0.5  2.0  ...  0.5  1.0  2.0   \n",
       "4    2.0  2.0  2.0  0.5  0.5  0.5  0.5  0.5  0.5  2.0  ...  0.5  1.0  2.0   \n",
       "..   ...  ...  ...  ...  ...  ...  ...  ...  ...  ...  ...  ...  ...  ...   \n",
       "146  1.0  1.0  1.0  1.0  1.0  1.0  1.0  1.0  1.0  1.0  ...  1.0  1.0  1.0   \n",
       "147  1.0  1.0  1.0  1.0  1.0  1.0  1.0  1.0  1.0  1.0  ...  1.0  1.0  1.0   \n",
       "148  2.0  2.0  2.0  1.0  1.0  1.0  1.0  1.0  1.0  2.0  ...  1.0  1.0  1.0   \n",
       "149  2.0  2.0  2.0  1.0  1.0  1.0  1.0  1.0  1.0  1.0  ...  1.0  2.0  1.0   \n",
       "150  2.0  2.0  2.0  1.0  1.0  1.0  1.0  1.0  1.0  1.0  ...  1.0  1.0  1.0   \n",
       "\n",
       "     144  145  146  147  148  149  150  \n",
       "0    1.0  1.0  1.0  1.0  1.0  1.0  1.0  \n",
       "1    1.0  1.0  1.0  1.0  1.0  1.0  1.0  \n",
       "2    1.0  1.0  1.0  1.0  1.0  1.0  1.0  \n",
       "3    1.0  0.5  0.5  0.5  0.5  1.0  1.0  \n",
       "4    1.0  0.5  0.5  0.5  0.5  1.0  1.0  \n",
       "..   ...  ...  ...  ...  ...  ...  ...  \n",
       "146  1.0  1.0  2.0  2.0  2.0  1.0  1.0  \n",
       "147  1.0  1.0  2.0  2.0  2.0  1.0  1.0  \n",
       "148  1.0  1.0  2.0  2.0  2.0  1.0  1.0  \n",
       "149  1.0  1.0  1.0  1.0  1.0  0.5  0.5  \n",
       "150  1.0  1.0  1.0  1.0  1.0  0.5  0.5  \n",
       "\n",
       "[151 rows x 151 columns]"
      ]
     },
     "execution_count": 25,
     "metadata": {},
     "output_type": "execute_result"
    }
   ],
   "source": [
    "modifier "
   ]
  },
  {
   "cell_type": "code",
   "execution_count": 28,
   "metadata": {},
   "outputs": [
    {
     "name": "stdout",
     "output_type": "stream",
     "text": [
      "Changed value of parameter NonConvex to 2\n",
      "   Prev: -1  Min: -1  Max: 2  Default: -1\n",
      "Gurobi Optimizer version 9.1.1 build v9.1.1rc0 (mac64)\n",
      "Thread count: 6 physical cores, 12 logical processors, using up to 12 threads\n",
      "Optimize a model with 23563 rows, 115516 columns and 71424 nonzeros\n",
      "Model fingerprint: 0x988b5329\n",
      "Model has 906 quadratic objective terms\n",
      "Model has 91204 quadratic constraints\n",
      "Coefficient statistics:\n",
      "  Matrix range     [5e-01, 6e+00]\n",
      "  QMatrix range    [8e-02, 3e+00]\n",
      "  QLMatrix range   [1e+00, 1e+00]\n",
      "  Objective range  [0e+00, 0e+00]\n",
      "  QObjective range [2e+00, 2e+00]\n",
      "  Bounds range     [1e+00, 1e+00]\n",
      "  RHS range        [1e+00, 6e+01]\n",
      "  QRHS range       [5e-01, 8e+00]\n",
      "Presolve removed 10827 rows and 22046 columns\n",
      "Presolve time: 0.06s\n",
      "\n",
      "Barrier solved model in 0 iterations and 0.06 seconds\n",
      "Model is infeasible or unbounded\n"
     ]
    },
    {
     "ename": "AttributeError",
     "evalue": "Unable to retrieve attribute 'objVal'",
     "output_type": "error",
     "traceback": [
      "\u001B[0;31m---------------------------------------------------------------------------\u001B[0m",
      "\u001B[0;31mAttributeError\u001B[0m                            Traceback (most recent call last)",
      "\u001B[0;32m<ipython-input-28-74b65c158ed6>\u001B[0m in \u001B[0;36m<module>\u001B[0;34m\u001B[0m\n\u001B[1;32m     44\u001B[0m \u001B[0;34m\u001B[0m\u001B[0m\n\u001B[1;32m     45\u001B[0m \u001B[0;31m#print optimal value\u001B[0m\u001B[0;34m\u001B[0m\u001B[0;34m\u001B[0m\u001B[0;34m\u001B[0m\u001B[0m\n\u001B[0;32m---> 46\u001B[0;31m \u001B[0mprint\u001B[0m\u001B[0;34m(\u001B[0m\u001B[0;34m'\\nOptimal: %g\\n'\u001B[0m \u001B[0;34m%\u001B[0m \u001B[0mmod\u001B[0m\u001B[0;34m.\u001B[0m\u001B[0mobjVal\u001B[0m\u001B[0;34m)\u001B[0m\u001B[0;34m\u001B[0m\u001B[0;34m\u001B[0m\u001B[0m\n\u001B[0m\u001B[1;32m     47\u001B[0m \u001B[0;34m\u001B[0m\u001B[0m\n\u001B[1;32m     48\u001B[0m \u001B[0;31m#print optimal solutions\u001B[0m\u001B[0;34m\u001B[0m\u001B[0;34m\u001B[0m\u001B[0;34m\u001B[0m\u001B[0m\n",
      "\u001B[0;32msrc/gurobipy/model.pxi\u001B[0m in \u001B[0;36mgurobipy.Model.__getattr__\u001B[0;34m()\u001B[0m\n",
      "\u001B[0;32msrc/gurobipy/model.pxi\u001B[0m in \u001B[0;36mgurobipy.Model.getAttr\u001B[0;34m()\u001B[0m\n",
      "\u001B[0;32msrc/gurobipy/attrutil.pxi\u001B[0m in \u001B[0;36mgurobipy.__getattr\u001B[0;34m()\u001B[0m\n",
      "\u001B[0;31mAttributeError\u001B[0m: Unable to retrieve attribute 'objVal'"
     ]
    }
   ],
   "source": [
    "#speed not taken into account yet\n",
    "from gurobipy import *\n",
    "no_pokemons = len(data)\n",
    "no_opponents = len(opponents)\n",
    "#preparing an optimization model\n",
    "mod = Model(\"pokemon\")\n",
    "mod.params.NonConvex = 2\n",
    "#declaring variables\n",
    "c = mod.addVars(no_pokemons, no_opponents, name='c')\n",
    "t = mod.addVars(no_pokemons, no_pokemons, name = 'turn')\n",
    "\n",
    "level = mod.addVar(1)\n",
    "#ev = mod.addVar(1)\n",
    "#iv = mod.addVar(1)\n",
    "hp = mod.addVars(no_pokemons, name = 'hp')\n",
    "attack = mod.addVars(no_pokemons, name = 'attack')\n",
    "defense = mod.addVars(no_pokemons, name = 'defense')\n",
    "speed = mod.addVars(no_pokemons, name = 'speed')\n",
    "ad_ratio = mod.addVars(no_pokemons, no_pokemons, name = 'attack_defense_ratio')\n",
    "damage = mod.addVars(no_pokemons, no_pokemons, name = 'damage_ij')\n",
    "turns_x = mod.addVars(no_pokemons, no_pokemons, name = 'turns_you_defeat_opponent')\n",
    "turns_y = mod.addVars(no_pokemons, no_pokemons, name = 'turns_opponent_defeat_you')\n",
    "\n",
    "#setting the objective\n",
    "mod.setObjective(sum(c[i,j]*t[i,opponents[j]-1] for i in range(no_pokemons) for j in range(no_opponents)), GRB.MAXIMIZE)\n",
    "\n",
    "#adding constraints\n",
    "mod.addConstrs(sum(c[i,j] for j in range(no_opponents)) <= 1 for i in range(no_pokemons))\n",
    "mod.addConstrs(sum(c[i,j] for i in range(no_pokemons)) == 1 for j in range(no_opponents))\n",
    "\n",
    "mod.addConstr(level == 60)\n",
    "mod.addConstrs(hp[i] == (2*data.hp[i] + iv + ev/4)*level/100 + level + 10 for i in range(no_pokemons))\n",
    "mod.addConstrs(attack[i] == (2*data.attack[i] + iv + ev/4)*level/100 + 5 for i in range(no_pokemons))\n",
    "mod.addConstrs(defense[i] == (2*data.defense[i] + iv + ev/4)*level/100 + 5 for i in range(no_pokemons))\n",
    "mod.addConstrs(speed[i] == (2*data.speed[i] + iv + ev/4)*level/100 + 5 for i in range(no_pokemons))\n",
    "mod.addConstrs(attack[i] == ad_ratio[i,j] * defense[j] for i in range(no_pokemons) for j in range(no_pokemons))\n",
    "mod.addConstrs(damage[i,j] == ((2*level/5 * data.power[i] * ad_ratio[i,j])/50 + 2)*modifier.iloc[i,j] for i in range(no_pokemons) for j in range(no_pokemons))\n",
    "mod.addConstrs(hp[j] == turns_x[i,j]*damage[i,j] for i in range(no_pokemons) for j in range(no_pokemons))\n",
    "mod.addConstrs(hp[i] == turns_y[i,j]*damage[j,i] for i in range(no_pokemons) for j in range(no_pokemons))\n",
    "mod.addConstrs(t[i,j] == turns_y[i,j] - turns_x[i,j] for i in range(no_pokemons) for j in range(no_pokemons))\n",
    "\n",
    "#solving the optimization problem\n",
    "mod.optimize()\n",
    "\n",
    "#print optimal value\n",
    "print('\\nOptimal: %g\\n' % mod.objVal)\n",
    "\n",
    "#print optimal solutions\n",
    "print('Optimal Assignment:')\n",
    "for index, v in c.items():\n",
    "    if v.getAttr(\"x\") == 1:\n",
    "        print(\"Pokemon {i} should battle pokemon {j}\".format(i = data.name[index[0]], j = data.name[opponents[index[1]]-1]))"
   ]
  },
  {
   "cell_type": "code",
   "execution_count": null,
   "outputs": [],
   "source": [],
   "metadata": {
    "collapsed": false,
    "pycharm": {
     "name": "#%%\n"
    }
   }
  }
 ],
 "metadata": {
  "kernelspec": {
   "display_name": "Python 3",
   "language": "python",
   "name": "python3"
  },
  "language_info": {
   "codemirror_mode": {
    "name": "ipython",
    "version": 3
   },
   "file_extension": ".py",
   "mimetype": "text/x-python",
   "name": "python",
   "nbconvert_exporter": "python",
   "pygments_lexer": "ipython3",
   "version": "3.8.5"
  }
 },
 "nbformat": 4,
 "nbformat_minor": 4
}