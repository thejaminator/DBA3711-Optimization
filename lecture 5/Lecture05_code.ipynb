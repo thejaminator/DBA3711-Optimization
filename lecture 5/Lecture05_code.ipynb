{
 "cells": [
  {
   "cell_type": "code",
   "execution_count": 2,
   "metadata": {},
   "outputs": [],
   "source": [
    "from gurobipy import *\n",
    "from math import sqrt\n",
    "import pandas as pd\n",
    "import numpy as np\n",
    "import matplotlib\n",
    "import matplotlib.pyplot as plt"
   ]
  },
  {
   "cell_type": "code",
   "execution_count": 7,
   "metadata": {},
   "outputs": [
    {
     "name": "stdout",
     "output_type": "stream",
     "text": [
      "   Unnamed: 0 Unnamed: 1       15      12    13\n",
      "0         NaN        NaN  Chicago  Denver  Erie\n",
      "1        15.0     Austin       10       7     9\n",
      "2        25.0    Buffalo        4       9     8\n",
      "[[nan nan 'Chicago' 'Denver' 'Erie']\n",
      " [15.0 'Austin' '10' '7' '9']\n",
      " [25.0 'Buffalo' '4' '9' '8']]\n",
      "['Unnamed: 0' 'Unnamed: 1' '15' '12' '13']\n",
      "['Austin' 'Buffalo']\n",
      "[15.0 25.0]\n",
      "['Chicago' 'Denver' 'Erie']\n",
      "[15. 12. 13.]\n",
      "[['10' '7' '9']\n",
      " ['4' '9' '8']]\n",
      "['Austin' 'Buffalo']\n",
      "[15.0 25.0]\n",
      "[['Austin', 'Buffalo'], {'Austin': 15.0, 'Buffalo': 25.0}]\n",
      "{('Austin', 'Chicago'): '10', ('Austin', 'Denver'): '7', ('Austin', 'Erie'): '9', ('Buffalo', 'Chicago'): '4', ('Buffalo', 'Denver'): '9', ('Buffalo', 'Erie'): '8'}\n",
      "{('Austin', 'Chicago'): <gurobi.Var *Awaiting Model Update*>, ('Austin', 'Denver'): <gurobi.Var *Awaiting Model Update*>, ('Austin', 'Erie'): <gurobi.Var *Awaiting Model Update*>, ('Buffalo', 'Chicago'): <gurobi.Var *Awaiting Model Update*>, ('Buffalo', 'Denver'): <gurobi.Var *Awaiting Model Update*>, ('Buffalo', 'Erie'): <gurobi.Var *Awaiting Model Update*>}\n",
      "Gurobi Optimizer version 9.1.1 build v9.1.1rc0 (mac64)\n",
      "Thread count: 6 physical cores, 12 logical processors, using up to 12 threads\n",
      "Optimize a model with 5 rows, 6 columns and 12 nonzeros\n",
      "Model fingerprint: 0x736e30d2\n",
      "Coefficient statistics:\n",
      "  Matrix range     [1e+00, 1e+00]\n",
      "  Objective range  [4e+00, 1e+01]\n",
      "  Bounds range     [0e+00, 0e+00]\n",
      "  RHS range        [1e+01, 2e+01]\n",
      "Presolve removed 4 rows and 3 columns\n",
      "Presolve time: 0.00s\n",
      "Presolved: 1 rows, 3 columns, 3 nonzeros\n",
      "\n",
      "Iteration    Objective       Primal Inf.    Dual Inf.      Time\n",
      "       0    2.4800000e+02   1.500000e+00   0.000000e+00      0s\n",
      "       1    2.5100000e+02   0.000000e+00   0.000000e+00      0s\n",
      "\n",
      "Solved in 1 iterations and 0.01 seconds\n",
      "Optimal objective  2.510000000e+02\n",
      "Optimal Solutions:\n",
      "\n",
      " Austin to Chicago amount: 0\n",
      "\n",
      " Austin to Denver amount: 12\n",
      "\n",
      " Austin to Erie amount: 3\n",
      "\n",
      " Buffalo to Chicago amount: 15\n",
      "\n",
      " Buffalo to Denver amount: 0\n",
      "\n",
      " Buffalo to Erie amount: 10\n",
      "\n",
      "Optimal value: \t251\n"
     ]
    }
   ],
   "source": [
    "\n",
    "# Reading the data file and preparting arrays\n",
    "data1 =  pd.read_csv('transportation.csv')\n",
    "print(data1)\n",
    "\n",
    "data = data1.values\n",
    "print(data)\n",
    "header = data1.columns.values\n",
    "print(header)\n",
    "\n",
    "supply_nodes = data[1:, 1]\n",
    "s = data[1:, 0]\n",
    "print(supply_nodes)\n",
    "print(s)\n",
    "\n",
    "demand_nodes = data[0, 2:]\n",
    "d = header[2:]\n",
    "print(demand_nodes)\n",
    "d = d.astype(np.float)\n",
    "print(d)\n",
    "\n",
    "c = data[1:, 2:]\n",
    "print(c)\n",
    "\n",
    "print(supply_nodes)\n",
    "print(s)\n",
    "print(multidict(zip(supply_nodes, s) ))\n",
    "# Converting arrays to dictionaries\n",
    "supply_nodes, s = multidict(zip(supply_nodes, s) )\n",
    "demand_nodes, d = multidict(zip(demand_nodes, d) )\n",
    "\n",
    "cost = {}\n",
    "for i in range(len(supply_nodes)):\n",
    "    for j in range(len(demand_nodes)):\n",
    "        cost[supply_nodes[i], demand_nodes[j]] = c[i,j]\n",
    "\n",
    "print(cost)\n",
    "\n",
    "# Preapring an Optimization Model\n",
    "tp = Model('transportation')\n",
    "\n",
    "# Declaring variables\n",
    "x = tp.addVars(cost, name = \"transport\")\n",
    "print(x)\n",
    "\n",
    "# Setting the objective\n",
    "tp.setObjective( quicksum(cost[i,j] * x[i,j] for i in supply_nodes for j in demand_nodes), GRB.MINIMIZE)\n",
    "\n",
    "# Adding constraints\n",
    "tp.addConstrs(quicksum(x[i,j] for j in demand_nodes) == s[i] for i in supply_nodes )\n",
    "tp.addConstrs(quicksum(x[i,j] for i in supply_nodes) == d[j] for j in demand_nodes )\n",
    "\n",
    "# Solving the optimization problem\n",
    "tp.optimize()\n",
    "\n",
    "# Printing the optimal solutions obtained\n",
    "p = tp.getAttr('x', x)\n",
    "print(\"Optimal Solutions:\")\n",
    "for i in supply_nodes:\n",
    "    for j in demand_nodes:\n",
    "        print(\"\\n %s to %s amount: %g\" % (i, j , p[i,j]))\n",
    "    \n",
    "\n",
    "# Get objective value for future usage\n",
    "print(\"\\nOptimal value: \\t%g\" % tp.objVal)"
   ]
  },
  {
   "cell_type": "code",
   "execution_count": null,
   "metadata": {
    "collapsed": true
   },
   "outputs": [],
   "source": []
  },
  {
   "cell_type": "code",
   "execution_count": 10,
   "metadata": {},
   "outputs": [
    {
     "name": "stdout",
     "output_type": "stream",
     "text": [
      "   start node i  end node j  c_ij  u_ij\n",
      "0             1           2     2   inf\n",
      "1             1           3     5   inf\n",
      "2             2           3     3   inf\n",
      "3             3           4     1   inf\n",
      "4             3           5     2   1.0\n",
      "5             4           1     0   inf\n",
      "6             4           5     2   inf\n",
      "7             5           2     4   inf\n",
      "<class 'numpy.ndarray'>\n",
      "[[ 1.  2.  2. inf]\n",
      " [ 1.  3.  5. inf]\n",
      " [ 2.  3.  3. inf]\n",
      " [ 3.  4.  1. inf]\n",
      " [ 3.  5.  2.  1.]\n",
      " [ 4.  1.  0. inf]\n",
      " [ 4.  5.  2. inf]\n",
      " [ 5.  2.  4. inf]]\n",
      "['start node i' 'end node j' 'c_ij' 'u_ij']\n",
      "[[ 1 -5]\n",
      " [ 2 10]\n",
      " [ 3  0]\n",
      " [ 4 -2]\n",
      " [ 5 -3]]\n",
      "[-5 10  0 -2 -3]\n",
      "5.0\n",
      "8\n",
      "[1. 2. 3. 4. 5.]\n",
      "[1. 1. 2. 3. 3. 4. 4. 5.]\n",
      "<gurobi.tuplelist (8 tuples, 2 values each):\n",
      " ( 1.0 , 2.0 )\n",
      " ( 1.0 , 3.0 )\n",
      " ( 2.0 , 3.0 )\n",
      " ( 3.0 , 4.0 )\n",
      " ( 3.0 , 5.0 )\n",
      " ( 4.0 , 1.0 )\n",
      " ( 4.0 , 5.0 )\n",
      " ( 5.0 , 2.0 )\n",
      ">\n",
      "{(1.0, 2.0): 2.0, (1.0, 3.0): 5.0, (2.0, 3.0): 3.0, (3.0, 4.0): 1.0, (3.0, 5.0): 2.0, (4.0, 1.0): 0.0, (4.0, 5.0): 2.0, (5.0, 2.0): 4.0}\n",
      "{(1.0, 2.0): inf, (1.0, 3.0): inf, (2.0, 3.0): inf, (3.0, 4.0): inf, (3.0, 5.0): 1.0, (4.0, 1.0): inf, (4.0, 5.0): inf, (5.0, 2.0): inf}\n"
     ]
    },
    {
     "ename": "IndexError",
     "evalue": "only integers, slices (`:`), ellipsis (`...`), numpy.newaxis (`None`) and integer or boolean arrays are valid indices",
     "output_type": "error",
     "traceback": [
      "\u001B[0;31m---------------------------------------------------------------------------\u001B[0m",
      "\u001B[0;31mIndexError\u001B[0m                                Traceback (most recent call last)",
      "\u001B[0;32m<ipython-input-10-c55ef9176015>\u001B[0m in \u001B[0;36m<module>\u001B[0;34m\u001B[0m\n\u001B[1;32m     49\u001B[0m \u001B[0;34m\u001B[0m\u001B[0m\n\u001B[1;32m     50\u001B[0m \u001B[0;31m# Adding the flow conservation constraints\u001B[0m\u001B[0;34m\u001B[0m\u001B[0;34m\u001B[0m\u001B[0;34m\u001B[0m\u001B[0m\n\u001B[0;32m---> 51\u001B[0;31m mcnf.addConstrs(quicksum(x[link] for link in links.select(i,'*')) - quicksum(x[link] for link in links.select('*',i)) \n\u001B[0m\u001B[1;32m     52\u001B[0m                 == b[i] for i in nodes)\n\u001B[1;32m     53\u001B[0m \u001B[0;34m\u001B[0m\u001B[0m\n",
      "\u001B[0;32msrc/gurobipy/model.pxi\u001B[0m in \u001B[0;36mgurobipy.Model.addConstrs\u001B[0;34m()\u001B[0m\n",
      "\u001B[0;32m<ipython-input-10-c55ef9176015>\u001B[0m in \u001B[0;36m<genexpr>\u001B[0;34m(.0)\u001B[0m\n\u001B[1;32m     50\u001B[0m \u001B[0;31m# Adding the flow conservation constraints\u001B[0m\u001B[0;34m\u001B[0m\u001B[0;34m\u001B[0m\u001B[0;34m\u001B[0m\u001B[0m\n\u001B[1;32m     51\u001B[0m mcnf.addConstrs(quicksum(x[link] for link in links.select(i,'*')) - quicksum(x[link] for link in links.select('*',i)) \n\u001B[0;32m---> 52\u001B[0;31m                 == b[i] for i in nodes)\n\u001B[0m\u001B[1;32m     53\u001B[0m \u001B[0;34m\u001B[0m\u001B[0m\n\u001B[1;32m     54\u001B[0m \u001B[0mmcnf\u001B[0m\u001B[0;34m.\u001B[0m\u001B[0moptimize\u001B[0m\u001B[0;34m(\u001B[0m\u001B[0;34m)\u001B[0m\u001B[0;34m\u001B[0m\u001B[0;34m\u001B[0m\u001B[0m\n",
      "\u001B[0;31mIndexError\u001B[0m: only integers, slices (`:`), ellipsis (`...`), numpy.newaxis (`None`) and integer or boolean arrays are valid indices"
     ]
    }
   ],
   "source": [
    "# Data Preparation\n",
    "data1 =  pd.read_csv('mincost.csv')\n",
    "print(data1)\n",
    "\n",
    "data = data1.values\n",
    "print(type(data))\n",
    "print(data)\n",
    "header = data1.columns.values\n",
    "print(header)\n",
    "\n",
    "start_node = data[:,0]\n",
    "end_node = data[:,1]\n",
    "c = data[:,2]\n",
    "u = data[:,3]\n",
    "\n",
    "\n",
    "data2 = pd.read_csv('mincost_b.csv')\n",
    "data2 = data2.values\n",
    "print(data2)\n",
    "b = data2[:,1]\n",
    "# nodes, b = multidict(zip(nodes, b))\n",
    "print(b)\n",
    "\n",
    "\n",
    "# number of nodes and number of links\n",
    "no_node = max(max(start_node), max(end_node) )\n",
    "no_link = len(start_node)\n",
    "print(no_node)\n",
    "print(no_link)\n",
    "\n",
    "# Creating a graph\n",
    "nodes = np.arange(1, no_node+1)\n",
    "print(nodes)\n",
    "print(start_node)\n",
    "links =  zip( start_node, end_node) \n",
    "links, c_dict, u_dict = multidict({(start_node[i], end_node[i]): [c[i], u[i]] for i in range(no_link)})\n",
    "print(links)\n",
    "print(c_dict)\n",
    "print(u_dict)\n",
    "\n",
    "# Preparing an optimization model\n",
    "mcnf = Model('mincost')\n",
    "\n",
    "# Defining decision variables\n",
    "x = mcnf.addVars(links, ub = u_dict)\n",
    "\n",
    "\n",
    "\n",
    "# Setting the objective\n",
    "mcnf.setObjective(quicksum(c_dict[link] * x[link] for link in links), GRB.MINIMIZE)\n",
    "\n",
    "# Adding the flow conservation constraints\n",
    "mcnf.addConstrs(quicksum(x[link] for link in links.select(i,'*')) - quicksum(x[link] for link in links.select('*',i)) \n",
    "                == b[i] for i in nodes)\n",
    "\n",
    "mcnf.optimize()\n",
    "\n",
    "# Printing the optimal solutions obtained\n",
    "p = mcnf.getAttr('x', x)\n",
    "print(\"Optimal Solutions:\")\n",
    "for link in links:\n",
    "    print(\"\\n flow on link %s: %g\" % (link , p[link]))\n",
    "\n",
    "# Get objective value for future usage\n",
    "print(\"\\nOptimal value: \\t%g\" % mcnf.objVal)"
   ]
  },
  {
   "cell_type": "code",
   "execution_count": null,
   "metadata": {
    "collapsed": true
   },
   "outputs": [],
   "source": []
  },
  {
   "cell_type": "code",
   "execution_count": null,
   "metadata": {
    "collapsed": true
   },
   "outputs": [],
   "source": [
    "\n",
    "\n"
   ]
  },
  {
   "cell_type": "code",
   "execution_count": null,
   "metadata": {
    "collapsed": true
   },
   "outputs": [],
   "source": []
  },
  {
   "cell_type": "code",
   "execution_count": null,
   "metadata": {
    "collapsed": true
   },
   "outputs": [],
   "source": []
  },
  {
   "cell_type": "code",
   "execution_count": null,
   "metadata": {
    "collapsed": true
   },
   "outputs": [],
   "source": []
  },
  {
   "cell_type": "code",
   "execution_count": null,
   "metadata": {
    "collapsed": true
   },
   "outputs": [],
   "source": []
  },
  {
   "cell_type": "code",
   "execution_count": null,
   "metadata": {
    "collapsed": true
   },
   "outputs": [],
   "source": []
  },
  {
   "cell_type": "code",
   "execution_count": null,
   "metadata": {
    "collapsed": true
   },
   "outputs": [],
   "source": []
  },
  {
   "cell_type": "code",
   "execution_count": null,
   "metadata": {
    "collapsed": true
   },
   "outputs": [],
   "source": []
  }
 ],
 "metadata": {
  "kernelspec": {
   "display_name": "Python 3",
   "language": "python",
   "name": "python3"
  },
  "language_info": {
   "codemirror_mode": {
    "name": "ipython",
    "version": 3
   },
   "file_extension": ".py",
   "mimetype": "text/x-python",
   "name": "python",
   "nbconvert_exporter": "python",
   "pygments_lexer": "ipython3",
   "version": "3.6.6"
  }
 },
 "nbformat": 4,
 "nbformat_minor": 2
}